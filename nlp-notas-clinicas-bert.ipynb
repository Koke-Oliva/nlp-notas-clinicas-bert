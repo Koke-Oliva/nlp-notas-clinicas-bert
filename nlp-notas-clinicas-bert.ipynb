{
 "cells": [
  {
   "cell_type": "markdown",
   "metadata": {
    "id": "OUHix--D7Dun"
   },
   "source": [
    "## **Introducción**\n",
    "\n",
    "Este trabajo aborda un problema de **clasificación de texto clínico en español**: predecir la **gravedad** del caso (leve, moderado, severo) a partir de notas clínicas breves y la afección reportada. El objetivo es **construir y comparar** dos enfoques de NLP —uno clásico con **embeddings** y otro con **transformers**— para entregar un sistema **asistivo** (no diagnóstico), reproducible y evaluado con criterios justos entre subgrupos.\n",
    "\n",
    "---\n",
    "\n",
    "### **Enfoque metodológico**\n",
    "\n",
    "* **Preprocesamiento** (**solo para embeddings**): tokenización, **lematización** y e**liminación de stopwords** con spaCy.\n",
    "\n",
    " *El pipeline transformer usa texto crudo para respetar el preentrenamiento*.\n",
    "\n",
    "* **Pipeline de Embeddings**:\n",
    "\n",
    "  * **Word2Vec** (**40d**) entrenado en train; vector oracional por promedio.\n",
    "\n",
    "  * **Features tabulares**: género binario (0/1) y edad estandarizada.\n",
    "\n",
    "  * **Clasificador**: **Random Forest**.\n",
    "\n",
    "* **Pipeline Transformer**:\n",
    "\n",
    "  * **BETO** (`dccuchile/bert-base-spanish-wwm-uncased`) con **Keras/TensorFlow**.\n",
    "\n",
    "  * Fine-tuning breve: **2–3 épocas**, `lr≈2e-5`, `max_length≤256`, *batch* moderado, **EarlyStopping** simple.\n",
    "\n",
    "* **Evaluación**: *train/test split* estratificado (80/20). **Precision, recall, F1** (macro y por clase) + **matriz de confusión** para ambos pipelines.\n",
    "\n",
    "* **Análisis de sesgos (fairness)**: desempeño estratificado por **género** y por **rangos etarios** (`<30, 30–50, >50`) y **propuestas de mitigación** si hay brechas.\n",
    "\n",
    "* **Ética y uso responsable**: privacidad, sesgos del lenguaje clínico y carácter estrictamente **asistivo** del modelo.\n",
    "\n",
    "* **Reproducibilidad**: semillas fijadas (`random`, `numpy`, `tf`) y entrenamiento de **Word2Vec**.\n",
    "\n",
    "---\n",
    "\n",
    "### **Variables del dataset**\n",
    "\n",
    "* `texto_clinico`: nota breve en lenguaje natural (español).\n",
    "\n",
    "* `afeccion`: diagnóstico o afección reportada (texto corto).\n",
    "\n",
    "* `gravedad`: etiqueta objetivo con tres clases (leve, moderado, severo).\n",
    "\n",
    "* `genero`: variable categórica (mapeada a binaria para el modelo clásico).\n",
    "\n",
    "* `edad`: variable numérica (posteriormente estandarizada).\n",
    "\n",
    "El propósito es comparar un baseline robusto (**Word2Vec+RF**) con un **transformer** en español (**BETO**), medir **calidad predictiva** y **comportamiento por subgrupos**, y cerrar con una **reflexión ética** alineada al uso responsable de NLP en contextos clínicos."
   ]
  },
  {
   "cell_type": "markdown",
   "metadata": {
    "id": "mU1LhphsDDVH"
   },
   "source": [
    "### PUNTO 1 — **Preparación**\n",
    "\n"
   ]
  },
  {
   "cell_type": "code",
   "execution_count": null,
   "metadata": {},
   "outputs": [],
   "source": [
    "import os\n",
    "os.environ[\"KERAS_BACKEND\"] = \"tensorflow\"  # obliga a usar tf.keras\n",
    "\n",
    "import random, numpy as np, tensorflow as tf\n",
    "SEED = 42\n",
    "random.seed(SEED); np.random.seed(SEED); tf.random.set_seed(SEED)\n",
    "\n",
    "import pandas as pd\n",
    "from sklearn.model_selection import train_test_split"
   ]
  },
  {
   "cell_type": "markdown",
   "metadata": {
    "id": "cLNOkWbRDO4M"
   },
   "source": [
    "Carga y columnas base (concatenar textos)"
   ]
  },
  {
   "cell_type": "code",
   "execution_count": null,
   "metadata": {},
   "outputs": [],
   "source": [
    "df = pd.read_csv(\"dataset_clinico_simulado_200.csv\", encoding=\"utf-8\")\n"
   ]
  },
  {
   "cell_type": "markdown",
   "metadata": {
    "id": "g01q83p14noV"
   },
   "source": [
    "#### **Preprocesamiento**"
   ]
  },
  {
   "cell_type": "code",
   "execution_count": null,
   "metadata": {},
   "outputs": [],
   "source": [
    "import re\n",
    "\n",
    "# limpiar 'afeccion' y reconstruir 'texto'\n",
    "def limpiar_afeccion(s):\n",
    "    s = re.sub(r\"\\b(?:leve|moderado|severo)\\b\", \"\", str(s), flags=re.I)\n",
    "    s = re.sub(r\"\\s+\", \" \", s).strip()\n",
    "    return s\n",
    "\n",
    "# si hay NaN en 'afeccion', evita problemas\n",
    "df[\"afeccion\"] = df[\"afeccion\"].fillna(\"\")\n",
    "\n",
    "# limpiar 'afeccion' para quitar leve|moderado|severo\n",
    "df[\"afeccion_clean\"] = df[\"afeccion\"].apply(limpiar_afeccion)\n",
    "\n",
    "# construir el texto final que usa el modelo\n",
    "df[\"texto\"] = (\n",
    "    df[\"texto_clinico\"].astype(str).str.strip() + \" \" + df[\"afeccion_clean\"]\n",
    ").str.strip()\n"
   ]
  },
  {
   "cell_type": "code",
   "execution_count": null,
   "metadata": {},
   "outputs": [],
   "source": [
    "# Sanity check: que 'afeccion_clean' ya NO tenga leve/moderado/severo\n",
    "pat = re.compile(r\"\\b(?:leve|moderado|severo)\\b\", re.I)\n",
    "mask = df[\"afeccion_clean\"].str.contains(pat, na=False)\n",
    "assert not mask.any()  # si falla, quedan casos por limpiar\n",
    "\n",
    "# (opcional) si falla, inspecciona cuáles:\n",
    "# df.loc[mask, [\"afeccion\", \"afeccion_clean\"]].head()\n"
   ]
  },
  {
   "cell_type": "code",
   "execution_count": null,
   "metadata": {},
   "outputs": [
    {
     "name": "stdout",
     "output_type": "stream",
     "text": [
      "                                       texto_clinico  edad genero  \\\n",
      "0  El paciente presenta síntomas leves como dolor...    43      M   \n",
      "1  Consulta por hipertensión leve sin signos de a...    34      F   \n",
      "2  Evolución rápida del cuadro clínico, compatibl...    34      M   \n",
      "3  El paciente presenta síntomas leves como tos y...    58      M   \n",
      "4  El cuadro clínico indica asma, con síntomas co...    45      M   \n",
      "\n",
      "                     afeccion  gravedad              afeccion_clean  \\\n",
      "0             resfriado común      leve             resfriado común   \n",
      "1           hipertensión leve      leve                hipertensión   \n",
      "2  infarto agudo de miocardio    severo  infarto agudo de miocardio   \n",
      "3             gastroenteritis      leve             gastroenteritis   \n",
      "4                        asma  moderado                        asma   \n",
      "\n",
      "                                               texto  \n",
      "0  El paciente presenta síntomas leves como dolor...  \n",
      "1  Consulta por hipertensión leve sin signos de a...  \n",
      "2  Evolución rápida del cuadro clínico, compatibl...  \n",
      "3  El paciente presenta síntomas leves como tos y...  \n",
      "4  El cuadro clínico indica asma, con síntomas co...  \n"
     ]
    }
   ],
   "source": [
    "# Features y target\n",
    "X = df[[\"texto\", \"genero\", \"edad\"]].copy()   # solo predictores\n",
    "y = df[\"gravedad\"].astype(str)               # etiqueta a predecir\n",
    "\n",
    "print(df.head())"
   ]
  },
  {
   "cell_type": "markdown",
   "metadata": {
    "id": "5K_-mTfpz-7m"
   },
   "source": [
    "Se decidió **concatenar las columnas `texto_clinico` y `afeccion`** en una nueva columna llamada `texto` con el objetivo de **enriquecer la representación semántica** que recibirán los modelos de NLP.  \n",
    "\n",
    "- La columna `texto_clinico` contiene la descripción narrativa de síntomas y observaciones del paciente.  \n",
    "- La columna `afeccion` aporta el diagnóstico o la condición clínica asociada.  \n",
    "\n",
    "Al unir ambas fuentes de información en un solo campo:\n",
    "1. Se aumenta la **densidad de señal** en cada registro, ya que el modelo dispone de más contexto para identificar patrones relacionados con la gravedad clínica.  \n",
    "2. Se reduce el riesgo de que la afección quede aislada como metadato y no sea considerada dentro del análisis textual.  \n",
    "3. Se genera un **corpus más robusto** para los métodos de representación (Word2Vec, embeddings), lo cual es especialmente importante dado el tamaño reducido del dataset (200 registros).  \n",
    "\n",
    "Esta decisión metodológica busca que el modelo aprenda no solo de los síntomas descritos, sino también de la afección asociada, incrementando la capacidad de detección de la **gravedad clínica** en el proceso de clasificación.\n",
    "\n",
    "---\n"
   ]
  },
  {
   "cell_type": "markdown",
   "metadata": {
    "id": "6aR2mTqSFLCJ"
   },
   "source": [
    "#### Split estratificado\n",
    "\n",
    "Para medir la Precision/Recall/F1 (macro y por clase)."
   ]
  },
  {
   "cell_type": "code",
   "execution_count": null,
   "metadata": {},
   "outputs": [
    {
     "data": {
      "text/plain": [
       "(160, 40, {'moderado': 66, 'severo': 47, 'leve': 47})"
      ]
     },
     "execution_count": 6,
     "metadata": {},
     "output_type": "execute_result"
    }
   ],
   "source": [
    "X_train, X_test, y_train, y_test = train_test_split(\n",
    "    X, y, test_size=0.2, random_state=SEED, stratify=y\n",
    ")\n",
    "\n",
    "len(X_train), len(X_test), y_train.value_counts().to_dict()\n"
   ]
  },
  {
   "cell_type": "markdown",
   "metadata": {
    "id": "Wtvhvjbv2Vam"
   },
   "source": [
    "Se separó el dataset en un **80% para entrenamiento** y un **20% para prueba**.  \n",
    "Se utilizó `stratify=y` para mantener la misma proporción de clases en ambas particiones de los datos.  \n",
    "\n",
    "Esto es importante en clasificación de textos porque asegura que todas las categorías de **gravedad clínica** (leve, moderado, severo) estén bien representadas.  \n",
    "\n",
    "La distribución de clases en el conjunto de entrenamiento quedó de la siguiente manera:  \n",
    "- moderado: 66 casos  \n",
    "- severo: 47 casos  \n",
    "- leve: 47 casos  \n",
    "\n",
    "Esto confirma que la estratificación funcionó correctamente y que se mantiene un **equilibrio inicial entre las clases**.  \n",
    "Este equilibrio es útil porque permitirá observar de manera más clara cómo el modelo aprende a distinguir entre los diferentes niveles de gravedad clínica.\n",
    "\n",
    "---\n"
   ]
  },
  {
   "cell_type": "markdown",
   "metadata": {
    "id": "fN4t3MNXFLsB"
   },
   "source": [
    "### PUNTO 2 — **Modelado**"
   ]
  },
  {
   "cell_type": "markdown",
   "metadata": {
    "id": "Euymoso17Jbq"
   },
   "source": [
    "Se comienza la construcción del primer pipeline de modelado.  \n",
    "La idea es utilizar **Word2Vec** para transformar los textos clínicos en representaciones numéricas (vectores), y luego entrenar un **Random Forest** como clasificador.\n",
    "\n",
    "1. **Instalación y librerías**  \n",
    "   - Se instaló la librería `gensim`, que es ampliamente utilizada en NLP para entrenar modelos de embeddings.  \n",
    "   - Se importó `Word2Vec` junto con `re` para el manejo de expresiones regulares necesarias en la tokenización.\n",
    "\n",
    "2.  \n",
    "   - Con Word2Vec se busca que las palabras de los textos clínicos queden representadas en un **espacio vectorial**, donde palabras con contextos similares queden más cercanas entre sí.  \n",
    "   - Este es un avance respecto a representaciones más simples como Bag of Words o TF-IDF, ya que captura información semántica.  \n",
    "\n",
    "   ---"
   ]
  },
  {
   "cell_type": "markdown",
   "metadata": {
    "id": "vgN4Yhpg5TEP"
   },
   "source": [
    "#### Lematización + stopwords [solo embeddings]\n",
    "\n",
    "* Se usa para el pipeline W2V+RF; BETO va con texto crudo."
   ]
  },
  {
   "cell_type": "code",
   "execution_count": null,
   "metadata": {},
   "outputs": [],
   "source": [
    "# Setup spaCy (1 sola vez)\n",
    "#!pip -q install spacy==3.7.4\n",
    "#!python -m spacy download es_core_news_sm\n",
    "\n",
    "import spacy\n",
    "nlp = spacy.load(\"es_core_news_sm\", disable=[\"ner\",\"parser\",\"textcat\",\"senter\"])\n",
    "STOP_ES = nlp.Defaults.stop_words\n"
   ]
  },
  {
   "cell_type": "markdown",
   "metadata": {
    "id": "p3Oo8EBc5yUz"
   },
   "source": [
    "Se inicializa **spaCy** para español cargando el modelo `es_core_news_sm`, desactivando componentes que no se usan en este pipeline (**NER**, **parser**, **textcat** y **senter**) para acelerar el procesamiento.\n",
    "\n",
    "Luego, se obtiene el conjunto de **stopwords en español** desde `nlp.Defaults.stop_words`, que se utilizará para **filtrar palabras vacías** durante la tokenización/lematización del pipeline de **embeddings** (**W2V+RF**)."
   ]
  },
  {
   "cell_type": "markdown",
   "metadata": {
    "id": "UHZvYrGMGAdZ"
   },
   "source": [
    "#### Embeddings (Word2Vec 40d) + RandomForest\n",
    "\n",
    "(tokenización → entrenar Word2Vec → vector promedio → agregar género/edad → RF → métricas)\n",
    "\n"
   ]
  },
  {
   "cell_type": "code",
   "execution_count": null,
   "metadata": {},
   "outputs": [
    {
     "name": "stdout",
     "output_type": "stream",
     "text": [
      "Collecting gensim\n",
      "  Downloading gensim-4.3.3-cp312-cp312-manylinux_2_17_x86_64.manylinux2014_x86_64.whl.metadata (8.1 kB)\n",
      "Requirement already satisfied: numpy<2.0,>=1.18.5 in /usr/local/lib/python3.12/dist-packages (from gensim) (1.26.4)\n",
      "Collecting scipy<1.14.0,>=1.7.0 (from gensim)\n",
      "  Downloading scipy-1.13.1-cp312-cp312-manylinux_2_17_x86_64.manylinux2014_x86_64.whl.metadata (60 kB)\n",
      "\u001b[2K     \u001b[90m━━━━━━━━━━━━━━━━━━━━━━━━━━━━━━━━━━━━━━━━\u001b[0m \u001b[32m60.6/60.6 kB\u001b[0m \u001b[31m3.8 MB/s\u001b[0m eta \u001b[36m0:00:00\u001b[0m\n",
      "\u001b[?25hRequirement already satisfied: smart-open>=1.8.1 in /usr/local/lib/python3.12/dist-packages (from gensim) (6.4.0)\n",
      "Downloading gensim-4.3.3-cp312-cp312-manylinux_2_17_x86_64.manylinux2014_x86_64.whl (26.6 MB)\n",
      "\u001b[2K   \u001b[90m━━━━━━━━━━━━━━━━━━━━━━━━━━━━━━━━━━━━━━━━\u001b[0m \u001b[32m26.6/26.6 MB\u001b[0m \u001b[31m61.2 MB/s\u001b[0m eta \u001b[36m0:00:00\u001b[0m\n",
      "\u001b[?25hDownloading scipy-1.13.1-cp312-cp312-manylinux_2_17_x86_64.manylinux2014_x86_64.whl (38.2 MB)\n",
      "\u001b[2K   \u001b[90m━━━━━━━━━━━━━━━━━━━━━━━━━━━━━━━━━━━━━━━━\u001b[0m \u001b[32m38.2/38.2 MB\u001b[0m \u001b[31m19.9 MB/s\u001b[0m eta \u001b[36m0:00:00\u001b[0m\n",
      "\u001b[?25hInstalling collected packages: scipy, gensim\n",
      "  Attempting uninstall: scipy\n",
      "    Found existing installation: scipy 1.16.1\n",
      "    Uninstalling scipy-1.16.1:\n",
      "      Successfully uninstalled scipy-1.16.1\n",
      "\u001b[31mERROR: pip's dependency resolver does not currently take into account all the packages that are installed. This behaviour is the source of the following dependency conflicts.\n",
      "tsfresh 0.21.1 requires scipy>=1.14.0; python_version >= \"3.10\", but you have scipy 1.13.1 which is incompatible.\u001b[0m\u001b[31m\n",
      "\u001b[0mSuccessfully installed gensim-4.3.3 scipy-1.13.1\n"
     ]
    },
    {
     "data": {
      "application/vnd.colab-display-data+json": {
       "id": "3469ffd4856f4f9da9d53d18c46061aa",
       "pip_warning": {
        "packages": [
         "scipy"
        ]
       }
      }
     },
     "metadata": {},
     "output_type": "display_data"
    }
   ],
   "source": [
    "#!pip install gensim\n"
   ]
  },
  {
   "cell_type": "code",
   "execution_count": null,
   "metadata": {},
   "outputs": [],
   "source": [
    "from gensim.models import Word2Vec"
   ]
  },
  {
   "cell_type": "code",
   "execution_count": null,
   "metadata": {},
   "outputs": [],
   "source": [
    "def simple_tokens(s: str):\n",
    "    doc = nlp(str(s).lower())\n",
    "\n",
    "    # lemas + sin stopwords + solo alfabéticos\n",
    "    return [t.lemma_ for t in doc if t.is_alpha and (t.lemma_ not in STOP_ES)]\n",
    "\n",
    "train_tokens = [simple_tokens(t) for t in X_train[\"texto\"]]\n",
    "test_tokens  = [simple_tokens(t) for t in X_test[\"texto\"]]\n",
    "\n"
   ]
  },
  {
   "cell_type": "code",
   "execution_count": null,
   "metadata": {},
   "outputs": [
    {
     "data": {
      "application/vnd.google.colaboratory.intrinsic+json": {
       "summary": "{\n  \"name\": \"display(pd\",\n  \"rows\": 3,\n  \"fields\": [\n    {\n      \"column\": \"id\",\n      \"properties\": {\n        \"dtype\": \"number\",\n        \"std\": 95,\n        \"min\": 2,\n        \"max\": 191,\n        \"num_unique_values\": 3,\n        \"samples\": [\n          191,\n          2,\n          125\n        ],\n        \"semantic_type\": \"\",\n        \"description\": \"\"\n      }\n    },\n    {\n      \"column\": \"raw\",\n      \"properties\": {\n        \"dtype\": \"string\",\n        \"num_unique_values\": 3,\n        \"samples\": [\n          \"El cuadro cl\\u00ednico indica dolor lumbar, con s\\u00edntomas como fiebre y fatiga. dolor lumbar...\",\n          \"Evoluci\\u00f3n r\\u00e1pida del cuadro cl\\u00ednico, compatible con infarto agudo de miocardio. infarto agudo de miocardio...\",\n          \"El cuadro cl\\u00ednico indica dolor lumbar, con s\\u00edntomas como dolor de cabeza y fiebre. dolor lumbar...\"\n        ],\n        \"semantic_type\": \"\",\n        \"description\": \"\"\n      }\n    },\n    {\n      \"column\": \"tokens\",\n      \"properties\": {\n        \"dtype\": \"object\",\n        \"semantic_type\": \"\",\n        \"description\": \"\"\n      }\n    }\n  ]\n}",
       "type": "dataframe"
      },
      "text/html": [
       "\n",
       "  <div id=\"df-3f6c9e50-5d14-4919-aaf2-5eb183cf18e2\" class=\"colab-df-container\">\n",
       "    <div>\n",
       "<style scoped>\n",
       "    .dataframe tbody tr th:only-of-type {\n",
       "        vertical-align: middle;\n",
       "    }\n",
       "\n",
       "    .dataframe tbody tr th {\n",
       "        vertical-align: top;\n",
       "    }\n",
       "\n",
       "    .dataframe thead th {\n",
       "        text-align: right;\n",
       "    }\n",
       "</style>\n",
       "<table border=\"1\" class=\"dataframe\">\n",
       "  <thead>\n",
       "    <tr style=\"text-align: right;\">\n",
       "      <th></th>\n",
       "      <th>id</th>\n",
       "      <th>raw</th>\n",
       "      <th>tokens</th>\n",
       "    </tr>\n",
       "  </thead>\n",
       "  <tbody>\n",
       "    <tr>\n",
       "      <th>0</th>\n",
       "      <td>191</td>\n",
       "      <td>El cuadro clínico indica dolor lumbar, con sín...</td>\n",
       "      <td>[cuadro, clínico, indicar, dolor, lumbar, sínt...</td>\n",
       "    </tr>\n",
       "    <tr>\n",
       "      <th>1</th>\n",
       "      <td>2</td>\n",
       "      <td>Evolución rápida del cuadro clínico, compatibl...</td>\n",
       "      <td>[evolución, rápido, cuadro, clínico, compatibl...</td>\n",
       "    </tr>\n",
       "    <tr>\n",
       "      <th>2</th>\n",
       "      <td>125</td>\n",
       "      <td>El cuadro clínico indica dolor lumbar, con sín...</td>\n",
       "      <td>[cuadro, clínico, indicar, dolor, lumbar, sínt...</td>\n",
       "    </tr>\n",
       "  </tbody>\n",
       "</table>\n",
       "</div>\n",
       "    <div class=\"colab-df-buttons\">\n",
       "\n",
       "  <div class=\"colab-df-container\">\n",
       "    <button class=\"colab-df-convert\" onclick=\"convertToInteractive('df-3f6c9e50-5d14-4919-aaf2-5eb183cf18e2')\"\n",
       "            title=\"Convert this dataframe to an interactive table.\"\n",
       "            style=\"display:none;\">\n",
       "\n",
       "  <svg xmlns=\"http://www.w3.org/2000/svg\" height=\"24px\" viewBox=\"0 -960 960 960\">\n",
       "    <path d=\"M120-120v-720h720v720H120Zm60-500h600v-160H180v160Zm220 220h160v-160H400v160Zm0 220h160v-160H400v160ZM180-400h160v-160H180v160Zm440 0h160v-160H620v160ZM180-180h160v-160H180v160Zm440 0h160v-160H620v160Z\"/>\n",
       "  </svg>\n",
       "    </button>\n",
       "\n",
       "  <style>\n",
       "    .colab-df-container {\n",
       "      display:flex;\n",
       "      gap: 12px;\n",
       "    }\n",
       "\n",
       "    .colab-df-convert {\n",
       "      background-color: #E8F0FE;\n",
       "      border: none;\n",
       "      border-radius: 50%;\n",
       "      cursor: pointer;\n",
       "      display: none;\n",
       "      fill: #1967D2;\n",
       "      height: 32px;\n",
       "      padding: 0 0 0 0;\n",
       "      width: 32px;\n",
       "    }\n",
       "\n",
       "    .colab-df-convert:hover {\n",
       "      background-color: #E2EBFA;\n",
       "      box-shadow: 0px 1px 2px rgba(60, 64, 67, 0.3), 0px 1px 3px 1px rgba(60, 64, 67, 0.15);\n",
       "      fill: #174EA6;\n",
       "    }\n",
       "\n",
       "    .colab-df-buttons div {\n",
       "      margin-bottom: 4px;\n",
       "    }\n",
       "\n",
       "    [theme=dark] .colab-df-convert {\n",
       "      background-color: #3B4455;\n",
       "      fill: #D2E3FC;\n",
       "    }\n",
       "\n",
       "    [theme=dark] .colab-df-convert:hover {\n",
       "      background-color: #434B5C;\n",
       "      box-shadow: 0px 1px 3px 1px rgba(0, 0, 0, 0.15);\n",
       "      filter: drop-shadow(0px 1px 2px rgba(0, 0, 0, 0.3));\n",
       "      fill: #FFFFFF;\n",
       "    }\n",
       "  </style>\n",
       "\n",
       "    <script>\n",
       "      const buttonEl =\n",
       "        document.querySelector('#df-3f6c9e50-5d14-4919-aaf2-5eb183cf18e2 button.colab-df-convert');\n",
       "      buttonEl.style.display =\n",
       "        google.colab.kernel.accessAllowed ? 'block' : 'none';\n",
       "\n",
       "      async function convertToInteractive(key) {\n",
       "        const element = document.querySelector('#df-3f6c9e50-5d14-4919-aaf2-5eb183cf18e2');\n",
       "        const dataTable =\n",
       "          await google.colab.kernel.invokeFunction('convertToInteractive',\n",
       "                                                    [key], {});\n",
       "        if (!dataTable) return;\n",
       "\n",
       "        const docLinkHtml = 'Like what you see? Visit the ' +\n",
       "          '<a target=\"_blank\" href=https://colab.research.google.com/notebooks/data_table.ipynb>data table notebook</a>'\n",
       "          + ' to learn more about interactive tables.';\n",
       "        element.innerHTML = '';\n",
       "        dataTable['output_type'] = 'display_data';\n",
       "        await google.colab.output.renderOutput(dataTable, element);\n",
       "        const docLink = document.createElement('div');\n",
       "        docLink.innerHTML = docLinkHtml;\n",
       "        element.appendChild(docLink);\n",
       "      }\n",
       "    </script>\n",
       "  </div>\n",
       "\n",
       "\n",
       "    <div id=\"df-101b24a1-c6c2-48c6-b8ae-da7658915874\">\n",
       "      <button class=\"colab-df-quickchart\" onclick=\"quickchart('df-101b24a1-c6c2-48c6-b8ae-da7658915874')\"\n",
       "                title=\"Suggest charts\"\n",
       "                style=\"display:none;\">\n",
       "\n",
       "<svg xmlns=\"http://www.w3.org/2000/svg\" height=\"24px\"viewBox=\"0 0 24 24\"\n",
       "     width=\"24px\">\n",
       "    <g>\n",
       "        <path d=\"M19 3H5c-1.1 0-2 .9-2 2v14c0 1.1.9 2 2 2h14c1.1 0 2-.9 2-2V5c0-1.1-.9-2-2-2zM9 17H7v-7h2v7zm4 0h-2V7h2v10zm4 0h-2v-4h2v4z\"/>\n",
       "    </g>\n",
       "</svg>\n",
       "      </button>\n",
       "\n",
       "<style>\n",
       "  .colab-df-quickchart {\n",
       "      --bg-color: #E8F0FE;\n",
       "      --fill-color: #1967D2;\n",
       "      --hover-bg-color: #E2EBFA;\n",
       "      --hover-fill-color: #174EA6;\n",
       "      --disabled-fill-color: #AAA;\n",
       "      --disabled-bg-color: #DDD;\n",
       "  }\n",
       "\n",
       "  [theme=dark] .colab-df-quickchart {\n",
       "      --bg-color: #3B4455;\n",
       "      --fill-color: #D2E3FC;\n",
       "      --hover-bg-color: #434B5C;\n",
       "      --hover-fill-color: #FFFFFF;\n",
       "      --disabled-bg-color: #3B4455;\n",
       "      --disabled-fill-color: #666;\n",
       "  }\n",
       "\n",
       "  .colab-df-quickchart {\n",
       "    background-color: var(--bg-color);\n",
       "    border: none;\n",
       "    border-radius: 50%;\n",
       "    cursor: pointer;\n",
       "    display: none;\n",
       "    fill: var(--fill-color);\n",
       "    height: 32px;\n",
       "    padding: 0;\n",
       "    width: 32px;\n",
       "  }\n",
       "\n",
       "  .colab-df-quickchart:hover {\n",
       "    background-color: var(--hover-bg-color);\n",
       "    box-shadow: 0 1px 2px rgba(60, 64, 67, 0.3), 0 1px 3px 1px rgba(60, 64, 67, 0.15);\n",
       "    fill: var(--button-hover-fill-color);\n",
       "  }\n",
       "\n",
       "  .colab-df-quickchart-complete:disabled,\n",
       "  .colab-df-quickchart-complete:disabled:hover {\n",
       "    background-color: var(--disabled-bg-color);\n",
       "    fill: var(--disabled-fill-color);\n",
       "    box-shadow: none;\n",
       "  }\n",
       "\n",
       "  .colab-df-spinner {\n",
       "    border: 2px solid var(--fill-color);\n",
       "    border-color: transparent;\n",
       "    border-bottom-color: var(--fill-color);\n",
       "    animation:\n",
       "      spin 1s steps(1) infinite;\n",
       "  }\n",
       "\n",
       "  @keyframes spin {\n",
       "    0% {\n",
       "      border-color: transparent;\n",
       "      border-bottom-color: var(--fill-color);\n",
       "      border-left-color: var(--fill-color);\n",
       "    }\n",
       "    20% {\n",
       "      border-color: transparent;\n",
       "      border-left-color: var(--fill-color);\n",
       "      border-top-color: var(--fill-color);\n",
       "    }\n",
       "    30% {\n",
       "      border-color: transparent;\n",
       "      border-left-color: var(--fill-color);\n",
       "      border-top-color: var(--fill-color);\n",
       "      border-right-color: var(--fill-color);\n",
       "    }\n",
       "    40% {\n",
       "      border-color: transparent;\n",
       "      border-right-color: var(--fill-color);\n",
       "      border-top-color: var(--fill-color);\n",
       "    }\n",
       "    60% {\n",
       "      border-color: transparent;\n",
       "      border-right-color: var(--fill-color);\n",
       "    }\n",
       "    80% {\n",
       "      border-color: transparent;\n",
       "      border-right-color: var(--fill-color);\n",
       "      border-bottom-color: var(--fill-color);\n",
       "    }\n",
       "    90% {\n",
       "      border-color: transparent;\n",
       "      border-bottom-color: var(--fill-color);\n",
       "    }\n",
       "  }\n",
       "</style>\n",
       "\n",
       "      <script>\n",
       "        async function quickchart(key) {\n",
       "          const quickchartButtonEl =\n",
       "            document.querySelector('#' + key + ' button');\n",
       "          quickchartButtonEl.disabled = true;  // To prevent multiple clicks.\n",
       "          quickchartButtonEl.classList.add('colab-df-spinner');\n",
       "          try {\n",
       "            const charts = await google.colab.kernel.invokeFunction(\n",
       "                'suggestCharts', [key], {});\n",
       "          } catch (error) {\n",
       "            console.error('Error during call to suggestCharts:', error);\n",
       "          }\n",
       "          quickchartButtonEl.classList.remove('colab-df-spinner');\n",
       "          quickchartButtonEl.classList.add('colab-df-quickchart-complete');\n",
       "        }\n",
       "        (() => {\n",
       "          let quickchartButtonEl =\n",
       "            document.querySelector('#df-101b24a1-c6c2-48c6-b8ae-da7658915874 button');\n",
       "          quickchartButtonEl.style.display =\n",
       "            google.colab.kernel.accessAllowed ? 'block' : 'none';\n",
       "        })();\n",
       "      </script>\n",
       "    </div>\n",
       "\n",
       "    </div>\n",
       "  </div>\n"
      ],
      "text/plain": [
       "    id                                                raw  \\\n",
       "0  191  El cuadro clínico indica dolor lumbar, con sín...   \n",
       "1    2  Evolución rápida del cuadro clínico, compatibl...   \n",
       "2  125  El cuadro clínico indica dolor lumbar, con sín...   \n",
       "\n",
       "                                              tokens  \n",
       "0  [cuadro, clínico, indicar, dolor, lumbar, sínt...  \n",
       "1  [evolución, rápido, cuadro, clínico, compatibl...  \n",
       "2  [cuadro, clínico, indicar, dolor, lumbar, sínt...  "
      ]
     },
     "metadata": {},
     "output_type": "display_data"
    }
   ],
   "source": [
    "# Revisión rápida de tokens (lo que realmente verá W2V)\n",
    "ex_idx = X_train.index[:3]  # 3 filas\n",
    "tok_preview = []\n",
    "for i in ex_idx:\n",
    "    raw = X_train.loc[i, \"texto\"]    # o \"texto_w2v\"\n",
    "    toks = simple_tokens(raw)\n",
    "    tok_preview.append({\"id\": i, \"raw\": raw[:140]+\"...\", \"tokens\": toks[:20]})\n",
    "import pandas as pd\n",
    "display(pd.DataFrame(tok_preview))\n"
   ]
  },
  {
   "cell_type": "code",
   "execution_count": null,
   "metadata": {},
   "outputs": [],
   "source": [
    "w2v = Word2Vec(\n",
    "    sentences=train_tokens,\n",
    "    vector_size=40, window=5, min_count=1, sg=1, workers=4, seed=SEED\n",
    ")"
   ]
  },
  {
   "cell_type": "markdown",
   "metadata": {
    "id": "U1UXXS_28WVj"
   },
   "source": [
    "1. **Función de tokenización (`simple_tokens`)**  \n",
    "   Se definió una función que extrae palabras usando una expresión regular, manteniendo caracteres con acentos y la letra ñ, y transformando todo a minúsculas.  \n",
    "   Esto permite que los textos clínicos queden divididos en **tokens limpios y homogéneos**, listos para ser procesados por el modelo de embeddings.\n",
    "\n",
    "2. **Generación de tokens para entrenamiento y prueba**  \n",
    "   - `train_tokens`: se tokenizó cada texto del conjunto de entrenamiento.  \n",
    "   - `test_tokens`: se aplicó el mismo procedimiento al conjunto de prueba.  \n",
    "   De esta forma, los modelos posteriores trabajarán con listas de palabras en lugar de cadenas de texto.\n",
    "\n",
    "3. **Entrenamiento de Word2Vec**  \n",
    "   Se entrenó un modelo Word2Vec con las siguientes configuraciones:  \n",
    "   - `vector_size=40`: cada palabra se representa con un vector de 40 dimensiones.  \n",
    "   - `window=5`: contexto de 5 palabras a la izquierda y derecha para aprender relaciones.  \n",
    "   - `min_count=1`: se incluyen todas las palabras, incluso las que aparecen una sola vez (útil dado el tamaño reducido del dataset).  \n",
    "   - `sg=1`: se usa **Skip-Gram**, un enfoque más efectivo con datasets pequeños para aprender buenas representaciones semánticas.  \n",
    "   - `workers=4`: paralelización para acelerar el entrenamiento.  \n",
    "   - `seed=SEED`: reproducibilidad de resultados.\n",
    "\n",
    "---\n"
   ]
  },
  {
   "cell_type": "markdown",
   "metadata": {
    "id": "YbPiNlMMHr2Z"
   },
   "source": [
    "#### Promedio de palabras → vector de oración (40d)"
   ]
  },
  {
   "cell_type": "code",
   "execution_count": null,
   "metadata": {},
   "outputs": [
    {
     "data": {
      "text/plain": [
       "((160, 40), (40, 40))"
      ]
     },
     "execution_count": 11,
     "metadata": {},
     "output_type": "execute_result"
    }
   ],
   "source": [
    "def sent_vec(tokens, model, dim=40):\n",
    "    # Se crea una lista con los vectores de cada palabra que esté en el vocabulario entrenado\n",
    "    v = [model.wv[w] for w in tokens if w in model.wv]\n",
    "\n",
    "    # Si la lista queda vacía (palabras fuera del vocabulario), se devuelve un vector de ceros\n",
    "    if not v:\n",
    "        return np.zeros(dim, dtype=np.float32)\n",
    "\n",
    "    # Se calcula el promedio de los vectores de las palabras → vector de la oración\n",
    "    return np.mean(v, axis=0).astype(np.float32)\n",
    "\n",
    "# Se generan los embeddings promedio para cada oración del conjunto de entrenamiento\n",
    "Xtr_emb = np.vstack([sent_vec(ts, w2v, 40) for ts in train_tokens])\n",
    "\n",
    "# Se hace lo mismo para el conjunto de prueba\n",
    "Xte_emb = np.vstack([sent_vec(ts, w2v, 40) for ts in test_tokens])\n",
    "\n",
    "# Se revisan las dimensiones: 160 oraciones (train), 40 (test), cada una con vectores de 40 dimensiones\n",
    "Xtr_emb.shape, Xte_emb.shape\n"
   ]
  },
  {
   "cell_type": "markdown",
   "metadata": {
    "id": "613s6E8b9JfB"
   },
   "source": [
    "Se creó una función para convertir cada lista de tokens en un único vector de 40 dimensiones, calculando el **promedio de los embeddings de sus palabras**.  \n",
    "De esta manera, cada nota clínica pasa de ser un conjunto de palabras a una representación numérica fija, lo que permite usarla después en el clasificador.  \n"
   ]
  },
  {
   "cell_type": "markdown",
   "metadata": {
    "id": "HKR4m9tjH1C7"
   },
   "source": [
    "#### Incorporación de variables demográficas (género binarizado y edad normalizada) → Representación final de 42 dimensiones\n"
   ]
  },
  {
   "cell_type": "code",
   "execution_count": null,
   "metadata": {},
   "outputs": [],
   "source": [
    "from sklearn.preprocessing import StandardScaler\n"
   ]
  },
  {
   "cell_type": "code",
   "execution_count": null,
   "metadata": {},
   "outputs": [
    {
     "name": "stdout",
     "output_type": "stream",
     "text": [
      "(160, 42) (40, 42)\n"
     ]
    }
   ],
   "source": [
    "# Mapear género a binario (F→0, M→1) y dejarlo como columna (n,1) para poder concatenar\n",
    "gen_map = {\"F\":0, \"M\":1}\n",
    "g_tr = X_train[\"genero\"].map(gen_map).values.reshape(-1,1)\n",
    "g_te = X_test[\"genero\"].map(gen_map).values.reshape(-1,1)\n",
    "\n",
    "# Estandarizar la edad con StandardScaler\n",
    "# Ajustar (fit) SOLO con train para evitar fuga de información\n",
    "sc_age = StandardScaler()\n",
    "a_tr = sc_age.fit_transform(X_train[[\"edad\"]])\n",
    "a_te = sc_age.transform(X_test[[\"edad\"]])\n",
    "\n",
    "# Concatenar features finales:\n",
    "# [40 dims de embeddings] + [1 dim género] + [1 dim edad] = 42 dims\n",
    "Xtr_42 = np.hstack([Xtr_emb, g_tr, a_tr])  # (n_train, 42)\n",
    "Xte_42 = np.hstack([Xte_emb, g_te, a_te])  # (n_test, 42)\n",
    "Xtr_42.shape, Xte_42.shape\n",
    "\n",
    "# Chequeo rápido de dimensiones esperadas\n",
    "print(Xtr_42.shape, Xte_42.shape)"
   ]
  },
  {
   "cell_type": "markdown",
   "metadata": {
    "id": "28IL2xmh-ia3"
   },
   "source": [
    "En este paso se incorporaron dos variables adicionales al vector de texto (40 dimensiones de Word2Vec):\n",
    "\n",
    "* Género → se codificó como binario (F=0, M=1).\n",
    "\n",
    "* Edad → se normalizó con z-score usando StandardScaler.\n",
    "\n",
    "Luego, estos valores se concatenaron con los embeddings, generando una representación final de 42 dimensiones para cada muestra.\n",
    "Esto permite que el clasificador no solo aprenda de las palabras, sino también de factores demográficos relevantes, que más adelante se usarán para evaluar sesgos.\n",
    "\n",
    "---"
   ]
  },
  {
   "cell_type": "markdown",
   "metadata": {
    "id": "4wtzsCQWIfFi"
   },
   "source": [
    "#### **Entrenamiento con Random Forest**\n",
    "\n",
    "Para este dataset clínico de 200 registros, se eligió **Random Forest** como modelo de clasificación debido a varias razones:\n",
    "\n",
    "1. **Robustez con datasets pequeños**:  \n",
    "   Random Forest funciona bien incluso con un número limitado de ejemplos, evitando el sobreajuste gracias a la combinación de múltiples árboles de decisión.\n",
    "\n",
    "2. **Capacidad de manejar variables mixtas**:  \n",
    "   Además de los embeddings de texto, el modelo integra de forma natural variables adicionales como género (binario) y edad (numérica normalizada).\n",
    "\n",
    "3. **Estabilidad y facilidad de interpretación**:  \n",
    "   Comparado con modelos más complejos, Random Forest entrega resultados estables y métricas consistentes, lo cual es adecuado en un escenario de simulación con pocos datos.\n",
    "\n",
    "4.   \n",
    "   En esta etapa, el interés principal es mostrar cómo los textos clínicos pueden representarse con embeddings y usarse en un clasificador sólido. Random Forest cumple este rol sin requerir ajustes extensivos de hiperparámetros.\n"
   ]
  },
  {
   "cell_type": "code",
   "execution_count": null,
   "metadata": {},
   "outputs": [],
   "source": [
    "from sklearn.ensemble import RandomForestClassifier\n"
   ]
  },
  {
   "cell_type": "code",
   "execution_count": null,
   "metadata": {},
   "outputs": [
    {
     "data": {
      "text/html": [
       "<style>#sk-container-id-1 {\n",
       "  /* Definition of color scheme common for light and dark mode */\n",
       "  --sklearn-color-text: #000;\n",
       "  --sklearn-color-text-muted: #666;\n",
       "  --sklearn-color-line: gray;\n",
       "  /* Definition of color scheme for unfitted estimators */\n",
       "  --sklearn-color-unfitted-level-0: #fff5e6;\n",
       "  --sklearn-color-unfitted-level-1: #f6e4d2;\n",
       "  --sklearn-color-unfitted-level-2: #ffe0b3;\n",
       "  --sklearn-color-unfitted-level-3: chocolate;\n",
       "  /* Definition of color scheme for fitted estimators */\n",
       "  --sklearn-color-fitted-level-0: #f0f8ff;\n",
       "  --sklearn-color-fitted-level-1: #d4ebff;\n",
       "  --sklearn-color-fitted-level-2: #b3dbfd;\n",
       "  --sklearn-color-fitted-level-3: cornflowerblue;\n",
       "\n",
       "  /* Specific color for light theme */\n",
       "  --sklearn-color-text-on-default-background: var(--sg-text-color, var(--theme-code-foreground, var(--jp-content-font-color1, black)));\n",
       "  --sklearn-color-background: var(--sg-background-color, var(--theme-background, var(--jp-layout-color0, white)));\n",
       "  --sklearn-color-border-box: var(--sg-text-color, var(--theme-code-foreground, var(--jp-content-font-color1, black)));\n",
       "  --sklearn-color-icon: #696969;\n",
       "\n",
       "  @media (prefers-color-scheme: dark) {\n",
       "    /* Redefinition of color scheme for dark theme */\n",
       "    --sklearn-color-text-on-default-background: var(--sg-text-color, var(--theme-code-foreground, var(--jp-content-font-color1, white)));\n",
       "    --sklearn-color-background: var(--sg-background-color, var(--theme-background, var(--jp-layout-color0, #111)));\n",
       "    --sklearn-color-border-box: var(--sg-text-color, var(--theme-code-foreground, var(--jp-content-font-color1, white)));\n",
       "    --sklearn-color-icon: #878787;\n",
       "  }\n",
       "}\n",
       "\n",
       "#sk-container-id-1 {\n",
       "  color: var(--sklearn-color-text);\n",
       "}\n",
       "\n",
       "#sk-container-id-1 pre {\n",
       "  padding: 0;\n",
       "}\n",
       "\n",
       "#sk-container-id-1 input.sk-hidden--visually {\n",
       "  border: 0;\n",
       "  clip: rect(1px 1px 1px 1px);\n",
       "  clip: rect(1px, 1px, 1px, 1px);\n",
       "  height: 1px;\n",
       "  margin: -1px;\n",
       "  overflow: hidden;\n",
       "  padding: 0;\n",
       "  position: absolute;\n",
       "  width: 1px;\n",
       "}\n",
       "\n",
       "#sk-container-id-1 div.sk-dashed-wrapped {\n",
       "  border: 1px dashed var(--sklearn-color-line);\n",
       "  margin: 0 0.4em 0.5em 0.4em;\n",
       "  box-sizing: border-box;\n",
       "  padding-bottom: 0.4em;\n",
       "  background-color: var(--sklearn-color-background);\n",
       "}\n",
       "\n",
       "#sk-container-id-1 div.sk-container {\n",
       "  /* jupyter's `normalize.less` sets `[hidden] { display: none; }`\n",
       "     but bootstrap.min.css set `[hidden] { display: none !important; }`\n",
       "     so we also need the `!important` here to be able to override the\n",
       "     default hidden behavior on the sphinx rendered scikit-learn.org.\n",
       "     See: https://github.com/scikit-learn/scikit-learn/issues/21755 */\n",
       "  display: inline-block !important;\n",
       "  position: relative;\n",
       "}\n",
       "\n",
       "#sk-container-id-1 div.sk-text-repr-fallback {\n",
       "  display: none;\n",
       "}\n",
       "\n",
       "div.sk-parallel-item,\n",
       "div.sk-serial,\n",
       "div.sk-item {\n",
       "  /* draw centered vertical line to link estimators */\n",
       "  background-image: linear-gradient(var(--sklearn-color-text-on-default-background), var(--sklearn-color-text-on-default-background));\n",
       "  background-size: 2px 100%;\n",
       "  background-repeat: no-repeat;\n",
       "  background-position: center center;\n",
       "}\n",
       "\n",
       "/* Parallel-specific style estimator block */\n",
       "\n",
       "#sk-container-id-1 div.sk-parallel-item::after {\n",
       "  content: \"\";\n",
       "  width: 100%;\n",
       "  border-bottom: 2px solid var(--sklearn-color-text-on-default-background);\n",
       "  flex-grow: 1;\n",
       "}\n",
       "\n",
       "#sk-container-id-1 div.sk-parallel {\n",
       "  display: flex;\n",
       "  align-items: stretch;\n",
       "  justify-content: center;\n",
       "  background-color: var(--sklearn-color-background);\n",
       "  position: relative;\n",
       "}\n",
       "\n",
       "#sk-container-id-1 div.sk-parallel-item {\n",
       "  display: flex;\n",
       "  flex-direction: column;\n",
       "}\n",
       "\n",
       "#sk-container-id-1 div.sk-parallel-item:first-child::after {\n",
       "  align-self: flex-end;\n",
       "  width: 50%;\n",
       "}\n",
       "\n",
       "#sk-container-id-1 div.sk-parallel-item:last-child::after {\n",
       "  align-self: flex-start;\n",
       "  width: 50%;\n",
       "}\n",
       "\n",
       "#sk-container-id-1 div.sk-parallel-item:only-child::after {\n",
       "  width: 0;\n",
       "}\n",
       "\n",
       "/* Serial-specific style estimator block */\n",
       "\n",
       "#sk-container-id-1 div.sk-serial {\n",
       "  display: flex;\n",
       "  flex-direction: column;\n",
       "  align-items: center;\n",
       "  background-color: var(--sklearn-color-background);\n",
       "  padding-right: 1em;\n",
       "  padding-left: 1em;\n",
       "}\n",
       "\n",
       "\n",
       "/* Toggleable style: style used for estimator/Pipeline/ColumnTransformer box that is\n",
       "clickable and can be expanded/collapsed.\n",
       "- Pipeline and ColumnTransformer use this feature and define the default style\n",
       "- Estimators will overwrite some part of the style using the `sk-estimator` class\n",
       "*/\n",
       "\n",
       "/* Pipeline and ColumnTransformer style (default) */\n",
       "\n",
       "#sk-container-id-1 div.sk-toggleable {\n",
       "  /* Default theme specific background. It is overwritten whether we have a\n",
       "  specific estimator or a Pipeline/ColumnTransformer */\n",
       "  background-color: var(--sklearn-color-background);\n",
       "}\n",
       "\n",
       "/* Toggleable label */\n",
       "#sk-container-id-1 label.sk-toggleable__label {\n",
       "  cursor: pointer;\n",
       "  display: flex;\n",
       "  width: 100%;\n",
       "  margin-bottom: 0;\n",
       "  padding: 0.5em;\n",
       "  box-sizing: border-box;\n",
       "  text-align: center;\n",
       "  align-items: start;\n",
       "  justify-content: space-between;\n",
       "  gap: 0.5em;\n",
       "}\n",
       "\n",
       "#sk-container-id-1 label.sk-toggleable__label .caption {\n",
       "  font-size: 0.6rem;\n",
       "  font-weight: lighter;\n",
       "  color: var(--sklearn-color-text-muted);\n",
       "}\n",
       "\n",
       "#sk-container-id-1 label.sk-toggleable__label-arrow:before {\n",
       "  /* Arrow on the left of the label */\n",
       "  content: \"▸\";\n",
       "  float: left;\n",
       "  margin-right: 0.25em;\n",
       "  color: var(--sklearn-color-icon);\n",
       "}\n",
       "\n",
       "#sk-container-id-1 label.sk-toggleable__label-arrow:hover:before {\n",
       "  color: var(--sklearn-color-text);\n",
       "}\n",
       "\n",
       "/* Toggleable content - dropdown */\n",
       "\n",
       "#sk-container-id-1 div.sk-toggleable__content {\n",
       "  max-height: 0;\n",
       "  max-width: 0;\n",
       "  overflow: hidden;\n",
       "  text-align: left;\n",
       "  /* unfitted */\n",
       "  background-color: var(--sklearn-color-unfitted-level-0);\n",
       "}\n",
       "\n",
       "#sk-container-id-1 div.sk-toggleable__content.fitted {\n",
       "  /* fitted */\n",
       "  background-color: var(--sklearn-color-fitted-level-0);\n",
       "}\n",
       "\n",
       "#sk-container-id-1 div.sk-toggleable__content pre {\n",
       "  margin: 0.2em;\n",
       "  border-radius: 0.25em;\n",
       "  color: var(--sklearn-color-text);\n",
       "  /* unfitted */\n",
       "  background-color: var(--sklearn-color-unfitted-level-0);\n",
       "}\n",
       "\n",
       "#sk-container-id-1 div.sk-toggleable__content.fitted pre {\n",
       "  /* unfitted */\n",
       "  background-color: var(--sklearn-color-fitted-level-0);\n",
       "}\n",
       "\n",
       "#sk-container-id-1 input.sk-toggleable__control:checked~div.sk-toggleable__content {\n",
       "  /* Expand drop-down */\n",
       "  max-height: 200px;\n",
       "  max-width: 100%;\n",
       "  overflow: auto;\n",
       "}\n",
       "\n",
       "#sk-container-id-1 input.sk-toggleable__control:checked~label.sk-toggleable__label-arrow:before {\n",
       "  content: \"▾\";\n",
       "}\n",
       "\n",
       "/* Pipeline/ColumnTransformer-specific style */\n",
       "\n",
       "#sk-container-id-1 div.sk-label input.sk-toggleable__control:checked~label.sk-toggleable__label {\n",
       "  color: var(--sklearn-color-text);\n",
       "  background-color: var(--sklearn-color-unfitted-level-2);\n",
       "}\n",
       "\n",
       "#sk-container-id-1 div.sk-label.fitted input.sk-toggleable__control:checked~label.sk-toggleable__label {\n",
       "  background-color: var(--sklearn-color-fitted-level-2);\n",
       "}\n",
       "\n",
       "/* Estimator-specific style */\n",
       "\n",
       "/* Colorize estimator box */\n",
       "#sk-container-id-1 div.sk-estimator input.sk-toggleable__control:checked~label.sk-toggleable__label {\n",
       "  /* unfitted */\n",
       "  background-color: var(--sklearn-color-unfitted-level-2);\n",
       "}\n",
       "\n",
       "#sk-container-id-1 div.sk-estimator.fitted input.sk-toggleable__control:checked~label.sk-toggleable__label {\n",
       "  /* fitted */\n",
       "  background-color: var(--sklearn-color-fitted-level-2);\n",
       "}\n",
       "\n",
       "#sk-container-id-1 div.sk-label label.sk-toggleable__label,\n",
       "#sk-container-id-1 div.sk-label label {\n",
       "  /* The background is the default theme color */\n",
       "  color: var(--sklearn-color-text-on-default-background);\n",
       "}\n",
       "\n",
       "/* On hover, darken the color of the background */\n",
       "#sk-container-id-1 div.sk-label:hover label.sk-toggleable__label {\n",
       "  color: var(--sklearn-color-text);\n",
       "  background-color: var(--sklearn-color-unfitted-level-2);\n",
       "}\n",
       "\n",
       "/* Label box, darken color on hover, fitted */\n",
       "#sk-container-id-1 div.sk-label.fitted:hover label.sk-toggleable__label.fitted {\n",
       "  color: var(--sklearn-color-text);\n",
       "  background-color: var(--sklearn-color-fitted-level-2);\n",
       "}\n",
       "\n",
       "/* Estimator label */\n",
       "\n",
       "#sk-container-id-1 div.sk-label label {\n",
       "  font-family: monospace;\n",
       "  font-weight: bold;\n",
       "  display: inline-block;\n",
       "  line-height: 1.2em;\n",
       "}\n",
       "\n",
       "#sk-container-id-1 div.sk-label-container {\n",
       "  text-align: center;\n",
       "}\n",
       "\n",
       "/* Estimator-specific */\n",
       "#sk-container-id-1 div.sk-estimator {\n",
       "  font-family: monospace;\n",
       "  border: 1px dotted var(--sklearn-color-border-box);\n",
       "  border-radius: 0.25em;\n",
       "  box-sizing: border-box;\n",
       "  margin-bottom: 0.5em;\n",
       "  /* unfitted */\n",
       "  background-color: var(--sklearn-color-unfitted-level-0);\n",
       "}\n",
       "\n",
       "#sk-container-id-1 div.sk-estimator.fitted {\n",
       "  /* fitted */\n",
       "  background-color: var(--sklearn-color-fitted-level-0);\n",
       "}\n",
       "\n",
       "/* on hover */\n",
       "#sk-container-id-1 div.sk-estimator:hover {\n",
       "  /* unfitted */\n",
       "  background-color: var(--sklearn-color-unfitted-level-2);\n",
       "}\n",
       "\n",
       "#sk-container-id-1 div.sk-estimator.fitted:hover {\n",
       "  /* fitted */\n",
       "  background-color: var(--sklearn-color-fitted-level-2);\n",
       "}\n",
       "\n",
       "/* Specification for estimator info (e.g. \"i\" and \"?\") */\n",
       "\n",
       "/* Common style for \"i\" and \"?\" */\n",
       "\n",
       ".sk-estimator-doc-link,\n",
       "a:link.sk-estimator-doc-link,\n",
       "a:visited.sk-estimator-doc-link {\n",
       "  float: right;\n",
       "  font-size: smaller;\n",
       "  line-height: 1em;\n",
       "  font-family: monospace;\n",
       "  background-color: var(--sklearn-color-background);\n",
       "  border-radius: 1em;\n",
       "  height: 1em;\n",
       "  width: 1em;\n",
       "  text-decoration: none !important;\n",
       "  margin-left: 0.5em;\n",
       "  text-align: center;\n",
       "  /* unfitted */\n",
       "  border: var(--sklearn-color-unfitted-level-1) 1pt solid;\n",
       "  color: var(--sklearn-color-unfitted-level-1);\n",
       "}\n",
       "\n",
       ".sk-estimator-doc-link.fitted,\n",
       "a:link.sk-estimator-doc-link.fitted,\n",
       "a:visited.sk-estimator-doc-link.fitted {\n",
       "  /* fitted */\n",
       "  border: var(--sklearn-color-fitted-level-1) 1pt solid;\n",
       "  color: var(--sklearn-color-fitted-level-1);\n",
       "}\n",
       "\n",
       "/* On hover */\n",
       "div.sk-estimator:hover .sk-estimator-doc-link:hover,\n",
       ".sk-estimator-doc-link:hover,\n",
       "div.sk-label-container:hover .sk-estimator-doc-link:hover,\n",
       ".sk-estimator-doc-link:hover {\n",
       "  /* unfitted */\n",
       "  background-color: var(--sklearn-color-unfitted-level-3);\n",
       "  color: var(--sklearn-color-background);\n",
       "  text-decoration: none;\n",
       "}\n",
       "\n",
       "div.sk-estimator.fitted:hover .sk-estimator-doc-link.fitted:hover,\n",
       ".sk-estimator-doc-link.fitted:hover,\n",
       "div.sk-label-container:hover .sk-estimator-doc-link.fitted:hover,\n",
       ".sk-estimator-doc-link.fitted:hover {\n",
       "  /* fitted */\n",
       "  background-color: var(--sklearn-color-fitted-level-3);\n",
       "  color: var(--sklearn-color-background);\n",
       "  text-decoration: none;\n",
       "}\n",
       "\n",
       "/* Span, style for the box shown on hovering the info icon */\n",
       ".sk-estimator-doc-link span {\n",
       "  display: none;\n",
       "  z-index: 9999;\n",
       "  position: relative;\n",
       "  font-weight: normal;\n",
       "  right: .2ex;\n",
       "  padding: .5ex;\n",
       "  margin: .5ex;\n",
       "  width: min-content;\n",
       "  min-width: 20ex;\n",
       "  max-width: 50ex;\n",
       "  color: var(--sklearn-color-text);\n",
       "  box-shadow: 2pt 2pt 4pt #999;\n",
       "  /* unfitted */\n",
       "  background: var(--sklearn-color-unfitted-level-0);\n",
       "  border: .5pt solid var(--sklearn-color-unfitted-level-3);\n",
       "}\n",
       "\n",
       ".sk-estimator-doc-link.fitted span {\n",
       "  /* fitted */\n",
       "  background: var(--sklearn-color-fitted-level-0);\n",
       "  border: var(--sklearn-color-fitted-level-3);\n",
       "}\n",
       "\n",
       ".sk-estimator-doc-link:hover span {\n",
       "  display: block;\n",
       "}\n",
       "\n",
       "/* \"?\"-specific style due to the `<a>` HTML tag */\n",
       "\n",
       "#sk-container-id-1 a.estimator_doc_link {\n",
       "  float: right;\n",
       "  font-size: 1rem;\n",
       "  line-height: 1em;\n",
       "  font-family: monospace;\n",
       "  background-color: var(--sklearn-color-background);\n",
       "  border-radius: 1rem;\n",
       "  height: 1rem;\n",
       "  width: 1rem;\n",
       "  text-decoration: none;\n",
       "  /* unfitted */\n",
       "  color: var(--sklearn-color-unfitted-level-1);\n",
       "  border: var(--sklearn-color-unfitted-level-1) 1pt solid;\n",
       "}\n",
       "\n",
       "#sk-container-id-1 a.estimator_doc_link.fitted {\n",
       "  /* fitted */\n",
       "  border: var(--sklearn-color-fitted-level-1) 1pt solid;\n",
       "  color: var(--sklearn-color-fitted-level-1);\n",
       "}\n",
       "\n",
       "/* On hover */\n",
       "#sk-container-id-1 a.estimator_doc_link:hover {\n",
       "  /* unfitted */\n",
       "  background-color: var(--sklearn-color-unfitted-level-3);\n",
       "  color: var(--sklearn-color-background);\n",
       "  text-decoration: none;\n",
       "}\n",
       "\n",
       "#sk-container-id-1 a.estimator_doc_link.fitted:hover {\n",
       "  /* fitted */\n",
       "  background-color: var(--sklearn-color-fitted-level-3);\n",
       "}\n",
       "</style><div id=\"sk-container-id-1\" class=\"sk-top-container\"><div class=\"sk-text-repr-fallback\"><pre>RandomForestClassifier(class_weight=&#x27;balanced_subsample&#x27;, n_estimators=400,\n",
       "                       random_state=42)</pre><b>In a Jupyter environment, please rerun this cell to show the HTML representation or trust the notebook. <br />On GitHub, the HTML representation is unable to render, please try loading this page with nbviewer.org.</b></div><div class=\"sk-container\" hidden><div class=\"sk-item\"><div class=\"sk-estimator fitted sk-toggleable\"><input class=\"sk-toggleable__control sk-hidden--visually\" id=\"sk-estimator-id-1\" type=\"checkbox\" checked><label for=\"sk-estimator-id-1\" class=\"sk-toggleable__label fitted sk-toggleable__label-arrow\"><div><div>RandomForestClassifier</div></div><div><a class=\"sk-estimator-doc-link fitted\" rel=\"noreferrer\" target=\"_blank\" href=\"https://scikit-learn.org/1.6/modules/generated/sklearn.ensemble.RandomForestClassifier.html\">?<span>Documentation for RandomForestClassifier</span></a><span class=\"sk-estimator-doc-link fitted\">i<span>Fitted</span></span></div></label><div class=\"sk-toggleable__content fitted\"><pre>RandomForestClassifier(class_weight=&#x27;balanced_subsample&#x27;, n_estimators=400,\n",
       "                       random_state=42)</pre></div> </div></div></div></div>"
      ],
      "text/plain": [
       "RandomForestClassifier(class_weight='balanced_subsample', n_estimators=400,\n",
       "                       random_state=42)"
      ]
     },
     "execution_count": 17,
     "metadata": {},
     "output_type": "execute_result"
    }
   ],
   "source": [
    "rf = RandomForestClassifier(\n",
    "    n_estimators=400, random_state=SEED, class_weight=\"balanced_subsample\"\n",
    ")\n",
    "rf.fit(Xtr_42, y_train)\n"
   ]
  },
  {
   "cell_type": "markdown",
   "metadata": {
    "id": "6DKxMG6dI1j0"
   },
   "source": [
    "#### Métricas de clasificación (macro y por clase)"
   ]
  },
  {
   "cell_type": "code",
   "execution_count": null,
   "metadata": {},
   "outputs": [],
   "source": [
    "from sklearn.metrics import classification_report, confusion_matrix\n"
   ]
  },
  {
   "cell_type": "code",
   "execution_count": null,
   "metadata": {},
   "outputs": [
    {
     "name": "stdout",
     "output_type": "stream",
     "text": [
      "== Embeddings40 + (genero, edad) | RandomForest ==\n",
      "              precision    recall  f1-score   support\n",
      "\n",
      "        leve      1.000     1.000     1.000        12\n",
      "    moderado      1.000     1.000     1.000        16\n",
      "      severo      1.000     1.000     1.000        12\n",
      "\n",
      "    accuracy                          1.000        40\n",
      "   macro avg      1.000     1.000     1.000        40\n",
      "weighted avg      1.000     1.000     1.000        40\n",
      "\n",
      "[[12  0  0]\n",
      " [ 0 16  0]\n",
      " [ 0  0 12]]\n"
     ]
    }
   ],
   "source": [
    "pred_rf = rf.predict(Xte_42)\n",
    "\n",
    "print(\"== Embeddings40 + (genero, edad) | RandomForest ==\")\n",
    "print(classification_report(y_test, pred_rf, digits=3))\n",
    "print(confusion_matrix(y_test, pred_rf))\n"
   ]
  },
  {
   "cell_type": "markdown",
   "metadata": {
    "id": "qJV8El6ZELGB"
   },
   "source": [
    "El modelo obtuvo **1.000** en precisión, recall y F1 para **todas** las clases (matriz de confusión sin errores).  \n",
    "**Lectura:** con 200 filas y texto simulado, un 100% sugiere que el **texto clínico contiene señales muy directas de la gravedad** o patrones altamente separables.  \n",
    "\n",
    "**Uso:** lo tomo como **baseline alto**; no implica generalización. Más adelante se verificará con BETO y se propondrá una **ablación** (ablation study; remover “leve/moderado/severo” del `texto_clinico` o detectar duplicados entre train/test) para medir sensibilidad del modelo.\n",
    "\n",
    "---\n"
   ]
  },
  {
   "cell_type": "markdown",
   "metadata": {
    "id": "FyW6l55cJDll"
   },
   "source": [
    "####  **BERT (BETO) con Keras/TF**\n",
    "\n",
    "Se eligió trabajar con **BERT (BETO, versión entrenada para español)** utilizando Keras/TensorFlow porque:\n",
    "\n",
    "- **Modelo preentrenado**: BETO ya fue entrenado con grandes corpus en español, lo que permite aprovechar representaciones lingüísticas de alta calidad sin necesidad de entrenar desde cero.\n",
    "\n",
    "- **Adecuado para clasificación de texto**: BERT está diseñado para capturar relaciones contextuales entre palabras, mejorando frente a técnicas más simples como promediar embeddings.  \n",
    "\n",
    "- **Integración con Keras/TensorFlow**: usarlo dentro de este framework facilita construir un pipeline de clasificación, entrenar con pocas líneas de código y aprovechar GPU para acelerar el proceso.  \n",
    "\n",
    "BETO actúa como un **modelo avanzado de NLP**, comparado con Random Forest + Word2Vec, permitiendo contrastar el desempeño de un enfoque tradicional con el de un transformer moderno."
   ]
  },
  {
   "cell_type": "markdown",
   "metadata": {
    "id": "bddyYQbSMZ9o"
   },
   "source": [
    "#### Semilla TF e instalación"
   ]
  },
  {
   "cell_type": "code",
   "execution_count": null,
   "metadata": {},
   "outputs": [],
   "source": [
    "import tensorflow as tf"
   ]
  },
  {
   "cell_type": "code",
   "execution_count": null,
   "metadata": {},
   "outputs": [],
   "source": [
    "# fija la semilla en TensorFlow para garantizar reproducibilidad en los resultados\n",
    "tf.random.set_seed(SEED)"
   ]
  },
  {
   "cell_type": "markdown",
   "metadata": {
    "id": "9_e1MKPAM1xz"
   },
   "source": [
    "#### Tokenizer + datasets (tf.data)"
   ]
  },
  {
   "cell_type": "code",
   "execution_count": null,
   "metadata": {},
   "outputs": [],
   "source": [
    "from transformers import AutoTokenizer\n",
    "from datasets import Dataset"
   ]
  },
  {
   "cell_type": "code",
   "execution_count": null,
   "metadata": {},
   "outputs": [
    {
     "name": "stderr",
     "output_type": "stream",
     "text": [
      "/usr/local/lib/python3.12/dist-packages/huggingface_hub/utils/_auth.py:94: UserWarning: \n",
      "The secret `HF_TOKEN` does not exist in your Colab secrets.\n",
      "To authenticate with the Hugging Face Hub, create a token in your settings tab (https://huggingface.co/settings/tokens), set it as secret in your Google Colab and restart your session.\n",
      "You will be able to reuse this secret in all of your notebooks.\n",
      "Please note that authentication is recommended but still optional to access public models or datasets.\n",
      "  warnings.warn(\n"
     ]
    },
    {
     "data": {
      "application/vnd.jupyter.widget-view+json": {
       "model_id": "e19c6d19252b475ca74e393059a409c6",
       "version_major": 2,
       "version_minor": 0
      },
      "text/plain": [
       "tokenizer_config.json:   0%|          | 0.00/310 [00:00<?, ?B/s]"
      ]
     },
     "metadata": {},
     "output_type": "display_data"
    },
    {
     "data": {
      "application/vnd.jupyter.widget-view+json": {
       "model_id": "ce9e4040ca734fdcbc963dd073174117",
       "version_major": 2,
       "version_minor": 0
      },
      "text/plain": [
       "config.json:   0%|          | 0.00/650 [00:00<?, ?B/s]"
      ]
     },
     "metadata": {},
     "output_type": "display_data"
    },
    {
     "data": {
      "application/vnd.jupyter.widget-view+json": {
       "model_id": "03ac47ce3cd8481c8668559ca4308035",
       "version_major": 2,
       "version_minor": 0
      },
      "text/plain": [
       "vocab.txt: 0.00B [00:00, ?B/s]"
      ]
     },
     "metadata": {},
     "output_type": "display_data"
    },
    {
     "data": {
      "application/vnd.jupyter.widget-view+json": {
       "model_id": "73404d1f473d4b06a79fb3067e9c0c9c",
       "version_major": 2,
       "version_minor": 0
      },
      "text/plain": [
       "tokenizer.json: 0.00B [00:00, ?B/s]"
      ]
     },
     "metadata": {},
     "output_type": "display_data"
    },
    {
     "data": {
      "application/vnd.jupyter.widget-view+json": {
       "model_id": "73f87ede361a4049817da255173b654c",
       "version_major": 2,
       "version_minor": 0
      },
      "text/plain": [
       "special_tokens_map.json:   0%|          | 0.00/134 [00:00<?, ?B/s]"
      ]
     },
     "metadata": {},
     "output_type": "display_data"
    },
    {
     "name": "stdout",
     "output_type": "stream",
     "text": [
      "input_ids: [4, 1039, 6420, 4167, 4141, 28856, 18721, 1040, 1218, 23080, 19890, 5]\n",
      "attention_mask: [1, 1, 1, 1, 1, 1, 1, 1, 1, 1, 1, 1]\n",
      "tokens: ['[CLS]', 'el', 'paciente', 'presenta', 'dolor', 'torá', '##cico', 'y', 'dis', '##nea', 'leve', '[SEP]']\n"
     ]
    },
    {
     "name": "stderr",
     "output_type": "stream",
     "text": [
      "/usr/local/lib/python3.12/dist-packages/datasets/arrow_dataset.py:403: FutureWarning: The output of `to_tf_dataset` will change when a passing single element list for `labels` or `columns` in the next datasets version. To return a tuple structure rather than dict, pass a single string.\n",
      "Old behaviour: columns=['a'], labels=['labels'] -> (tf.Tensor, tf.Tensor)  \n",
      "             : columns='a', labels='labels' -> (tf.Tensor, tf.Tensor)  \n",
      "New behaviour: columns=['a'],labels=['labels'] -> ({'a': tf.Tensor}, {'labels': tf.Tensor})  \n",
      "             : columns='a', labels='labels' -> (tf.Tensor, tf.Tensor) \n",
      "  warnings.warn(\n"
     ]
    }
   ],
   "source": [
    "# Se define el modelo BETO (BERT para español) y su tokenizador\n",
    "model_name = \"dccuchile/bert-base-spanish-wwm-uncased\"\n",
    "tokenizer = AutoTokenizer.from_pretrained(model_name)\n",
    "\n",
    "# Diccionarios de etiquetas ↔ índices\n",
    "labels   = sorted(y.unique().tolist())\n",
    "id2label = {i: l for i, l in enumerate(labels)}\n",
    "label2id = {l: i for i, l in id2label.items()}\n",
    "\n",
    "# Función para codificar lotes de texto (tokenización + labels)\n",
    "def encode_batch(texts, ys):\n",
    "    # Tokeniza con padding y truncado a longitud fija (256)\n",
    "    enc = tokenizer(texts, padding=True, truncation=True, max_length=256)\n",
    "    # Agrega etiquetas como enteros\n",
    "    enc[\"labels\"] = [label2id[v] for v in ys]\n",
    "    return enc\n",
    "\n",
    "# Datasets de entrenamiento y prueba (formato HuggingFace)\n",
    "ds_tr = Dataset.from_dict(encode_batch(X_train[\"texto\"].tolist(), y_train.tolist()))\n",
    "ds_te = Dataset.from_dict(encode_batch(X_test[\"texto\"].tolist(),  y_test.tolist()))\n",
    "\n",
    "# --- Punto 1 (exploratorio): ver cómo tokeniza BETO un texto clínico ---\n",
    "ejemplo = \"El paciente presenta dolor torácico y disnea leve\"\n",
    "tok = tokenizer(ejemplo, padding=True, truncation=True, max_length=256)\n",
    "print(\"input_ids:\", tok[\"input_ids\"])\n",
    "print(\"attention_mask:\", tok[\"attention_mask\"])\n",
    "print(\"tokens:\", tokenizer.convert_ids_to_tokens(tok[\"input_ids\"]))\n",
    "# ----------------------------------------------------------------------\n",
    "\n",
    "# Conversión a tf.data (lo que Keras/TF usará en el fit)\n",
    "tf_tr = ds_tr.to_tf_dataset(\n",
    "    columns=[\"input_ids\", \"attention_mask\"],  # entradas que requiere BERT\n",
    "    label_cols=[\"labels\"],\n",
    "    shuffle=True,\n",
    "    batch_size=16\n",
    ")\n",
    "\n",
    "tf_te = ds_te.to_tf_dataset(\n",
    "    columns=[\"input_ids\", \"attention_mask\"],\n",
    "    label_cols=[\"labels\"],\n",
    "    shuffle=False,\n",
    "    batch_size=32\n",
    ")"
   ]
  },
  {
   "cell_type": "markdown",
   "metadata": {
    "id": "XLT6qqUAHBAf"
   },
   "source": [
    "Se prepararon los textos clínicos para entrenar un modelo BETO con Keras/TensorFlow:\n",
    "\n",
    "1. **Tokenización**: se utilizó el tokenizador propio de BETO para transformar cada texto en secuencias de enteros (`input_ids`) y máscaras de atención (`attention_mask`), asegurando un tamaño máximo de 256 tokens.  \n",
    "2. **Etiquetas**: se codificaron las clases de gravedad clínica como enteros (`label2id`).  \n",
    "3. **Datasets**: se crearon datasets de entrenamiento y prueba (`ds_tr`, `ds_te`), y luego se pasaron al formato de TensorFlow (`tf_tr`, `tf_te`) con batching.  \n",
    "\n",
    "Aquí se convierte las notas clínicas en un formato que el modelo BETO puede procesar, integrando tanto los textos tokenizados como las etiquetas de clasificación.\n",
    "\n",
    "Además el texto clínico ya se transforma a la **entrada real** que BETO usa (ids + máscaras)."
   ]
  },
  {
   "cell_type": "markdown",
   "metadata": {
    "id": "_NIdI26eMITD"
   },
   "source": [
    "#### Cargar BERT (TF) y compilar modelo"
   ]
  },
  {
   "cell_type": "code",
   "execution_count": null,
   "metadata": {},
   "outputs": [],
   "source": [
    "import tensorflow as tf\n",
    "from transformers import TFAutoModelForSequenceClassification"
   ]
  },
  {
   "cell_type": "code",
   "execution_count": null,
   "metadata": {},
   "outputs": [
    {
     "data": {
      "application/vnd.jupyter.widget-view+json": {
       "model_id": "1da370cc38f041d2888eabff2f4bd8f2",
       "version_major": 2,
       "version_minor": 0
      },
      "text/plain": [
       "tf_model.h5:   0%|          | 0.00/537M [00:00<?, ?B/s]"
      ]
     },
     "metadata": {},
     "output_type": "display_data"
    },
    {
     "name": "stderr",
     "output_type": "stream",
     "text": [
      "TensorFlow and JAX classes are deprecated and will be removed in Transformers v5. We recommend migrating to PyTorch classes or pinning your version of Transformers.\n",
      "All model checkpoint layers were used when initializing TFBertForSequenceClassification.\n",
      "\n",
      "Some layers of TFBertForSequenceClassification were not initialized from the model checkpoint at dccuchile/bert-base-spanish-wwm-uncased and are newly initialized: ['classifier', 'bert/pooler/dense/bias:0', 'bert/pooler/dense/kernel:0']\n",
      "You should probably TRAIN this model on a down-stream task to be able to use it for predictions and inference.\n"
     ]
    }
   ],
   "source": [
    "model_name = \"dccuchile/bert-base-spanish-wwm-uncased\"\n",
    "\n",
    "bert = TFAutoModelForSequenceClassification.from_pretrained(\n",
    "    model_name, num_labels=len(labels), id2label=id2label, label2id=label2id\n",
    ")\n",
    "\n",
    "# Adam de tf.keras (NO legacy, NO keras standalone)\n",
    "optimizer = tf.keras.optimizers.Adam(learning_rate=2e-5)  # opcional: clipnorm=1.0\n",
    "\n",
    "# Pérdida explícita para logits\n",
    "loss = tf.keras.losses.SparseCategoricalCrossentropy(from_logits=True)\n",
    "\n",
    "# Métrica\n",
    "metrics = [tf.keras.metrics.SparseCategoricalAccuracy(name=\"accuracy\")]\n",
    "\n",
    "bert.compile(optimizer=optimizer, loss=loss, metrics=metrics)"
   ]
  },
  {
   "cell_type": "markdown",
   "metadata": {
    "id": "ZTaz30F2JIAg"
   },
   "source": [
    "> Se vuelve a declarar `model_name` en este bloque para mantener claridad y modularidad en el notebook.  \n",
    "\n",
    "\n",
    "\n",
    "-  \n",
    "  Se eligió `Adam` porque es un optimizador muy usado en *fine-tuning* de modelos grandes como BERT.  \n",
    "  Combina lo mejor de *Momentum* y *Adaptive Learning Rate*, ajustando dinámicamente la tasa de aprendizaje para cada parámetro.  \n",
    "  Esto es clave en transformers, ya que entrenan millones de parámetros y requieren estabilidad.  \n",
    "\n",
    "-   \n",
    "  Los modelos preentrenados como BETO ya traen mucho conocimiento adquirido.  \n",
    "  Una tasa demasiado alta podría “destruir” ese conocimiento rápidamente.  \n",
    "  Con `2e-5` se logra un ajuste fino y progresivo, evitando sobreajuste y manteniendo la generalización.  \n",
    "\n",
    "-   \n",
    "  - *CategoricalCrossentropy* es la pérdida estándar para clasificación multiclase.  \n",
    "  - La variante *Sparse* se usa porque las etiquetas están codificadas como enteros (0,1,2) y no en formato one-hot.  \n",
    "  - El argumento `from_logits=True` es necesario porque BERT entrega salidas sin normalizar (logits). Esto le indica a la función de pérdida que aplique el *softmax* internamente antes de calcular el error.  \n",
    "\n",
    "-   \n",
    "  Se eligió `accuracy` porque es una métrica clara y sencilla para el monitoreo inicial.  \n",
    "  Aunque más adelante se analicen métricas más detalladas (precisión, recall, F1 por clase), `accuracy` permite tener una idea rápida de si el modelo está aprendiendo correctamente.  \n",
    "\n",
    "---\n",
    "\n",
    "\n"
   ]
  },
  {
   "cell_type": "markdown",
   "metadata": {
    "id": "igzzyzVoSz5A"
   },
   "source": [
    "#### EarlyStopping"
   ]
  },
  {
   "cell_type": "code",
   "execution_count": null,
   "metadata": {},
   "outputs": [],
   "source": [
    "cb_es = tf.keras.callbacks.EarlyStopping(\n",
    "    monitor=\"val_loss\", patience=1, restore_best_weights=True\n",
    ")"
   ]
  },
  {
   "cell_type": "markdown",
   "metadata": {
    "id": "85dBlCh2klYe"
   },
   "source": [
    "* Monitor a `val_los`s (es más estable que `val_accuracy` en fine-tuning)."
   ]
  },
  {
   "cell_type": "markdown",
   "metadata": {
    "id": "0y63CXn5TICP"
   },
   "source": [
    "#### Entrenar 2–3 épocas"
   ]
  },
  {
   "cell_type": "code",
   "execution_count": null,
   "metadata": {},
   "outputs": [
    {
     "name": "stdout",
     "output_type": "stream",
     "text": [
      "Epoch 1/3\n",
      "10/10 [==============================] - 61s 740ms/step - loss: 0.8529 - accuracy: 0.6500 - val_loss: 0.3761 - val_accuracy: 1.0000\n",
      "Epoch 2/3\n",
      "10/10 [==============================] - 2s 156ms/step - loss: 0.2771 - accuracy: 1.0000 - val_loss: 0.0885 - val_accuracy: 1.0000\n",
      "Epoch 3/3\n",
      "10/10 [==============================] - 2s 167ms/step - loss: 0.0711 - accuracy: 1.0000 - val_loss: 0.0286 - val_accuracy: 1.0000\n"
     ]
    }
   ],
   "source": [
    "history = bert.fit(\n",
    "    tf_tr,\n",
    "    validation_data=tf_te,\n",
    "    epochs=3,\n",
    "    callbacks=[cb_es],   # early stopping\n",
    "    verbose=1\n",
    ")\n"
   ]
  },
  {
   "cell_type": "markdown",
   "metadata": {
    "id": "URD3fKSjlmSC"
   },
   "source": [
    "Se entrenó 3 épocas y la **val_accuracy fue 1.000 desde la 1.ª época**, con `val_loss` cayendo de 0.376 → 0.088 → 0.029.  \n",
    "\n",
    "El set de prueba resulta **muy fácil** para el modelo. Aun después de limpiar `afeccion`, el **`texto_clinico` trae señales fuertes de la gravedad** (p. ej., menciones explícitas “leve/moderado/severo” u otros términos altamente separables), o bien hay **textos muy similares** entre train/test."
   ]
  },
  {
   "cell_type": "markdown",
   "metadata": {
    "id": "7VjWh2o9TwRR"
   },
   "source": [
    "####  Predicción y reporte (precision/recall/F1)"
   ]
  },
  {
   "cell_type": "code",
   "execution_count": null,
   "metadata": {},
   "outputs": [
    {
     "name": "stdout",
     "output_type": "stream",
     "text": [
      "== BERT (BETO) ==\n",
      "              precision    recall  f1-score   support\n",
      "\n",
      "        leve      1.000     1.000     1.000        12\n",
      "    moderado      1.000     1.000     1.000        16\n",
      "      severo      1.000     1.000     1.000        12\n",
      "\n",
      "    accuracy                          1.000        40\n",
      "   macro avg      1.000     1.000     1.000        40\n",
      "weighted avg      1.000     1.000     1.000        40\n",
      "\n",
      "[[12  0  0]\n",
      " [ 0 16  0]\n",
      " [ 0  0 12]]\n"
     ]
    }
   ],
   "source": [
    "logits_list, y_true_ids_list = [], []\n",
    "\n",
    "for x_batch, y_batch in tf_te:            # <- desempaquetar (features, labels)\n",
    "    # x_batch es un dict con 'input_ids' y 'attention_mask'\n",
    "    outputs = bert(x_batch, training=False)\n",
    "    logits_list.append(outputs.logits.numpy())\n",
    "    y_true_ids_list.append(y_batch.numpy())\n",
    "\n",
    "logits = np.vstack(logits_list)\n",
    "y_true_ids = np.concatenate(y_true_ids_list)\n",
    "y_pred_ids = logits.argmax(axis=-1)\n",
    "\n",
    "y_true_lbls = [id2label[i] for i in y_true_ids]\n",
    "y_pred_lbls = [id2label[i] for i in y_pred_ids]\n",
    "\n",
    "print(\"== BERT (BETO) ==\")\n",
    "print(classification_report(y_true_lbls, y_pred_lbls, digits=3))\n",
    "print(confusion_matrix(y_true_lbls, y_pred_lbls))"
   ]
  },
  {
   "cell_type": "markdown",
   "metadata": {
    "id": "Mg0NH8e2m9zP"
   },
   "source": [
    "- **Métricas**: precisión/recall/F1 = **1.000** en **todas** las clases; matriz de confusión **diagonal perfecta** (12/16/12 por clase).  \n",
    "\n",
    "- El set de prueba es **trivial** para el modelo. Aun sin “fuga” desde `afeccion`, el **texto_clínico** contiene señales muy fuertes (p. ej., menciones explícitas de gravedad o términos casi determinísticos por clase), o existen **textos repetidos/muy similares** entre train/test. Con 40 casos de test, además, los intervalos de confianza son amplios.\n",
    "\n",
    "---"
   ]
  },
  {
   "cell_type": "markdown",
   "metadata": {
    "id": "EDGzyilpXYXd"
   },
   "source": [
    "### PUNTO 3 — **Sesgos (estratificado)**.\n",
    "\n",
    "En esta sección se evalúa **fairness** midiendo el desempeño en el **set de prueba** por subgrupos.\n",
    "\n",
    "Primero, se compara género (*F vs M*): se alinean las etiquetas verdaderas y predichas con el índice de `X_test`, y se calculan **precision**, **recall** y **F1** *macro* sobre **cada subpoblación** usando máscaras booleanas. El promedio macro da el mismo peso a cada clase (*leve/moderado/severo*), evitando que una clase frecuente domine la métrica; `zero_division=0` evita errores cuando alguna clase no aparece en un subgrupo.\n",
    "\n",
    "El resultado se presenta en una **tabla por grupo** con P/R/F1 (macro). Esta comparación permite detectar **brechas de rendimiento** entre F y M. Si aparecen diferencias relevantes (p. ej., >5–10 puntos de F1 macro), se dejan **propuestas de mitigación** (p. ej., class_weight, rebalanceo, validación estratificada, más datos). Luego se repite la misma lógica para rangos etarios (`<30`, `30–50`, `>50`)."
   ]
  },
  {
   "cell_type": "markdown",
   "metadata": {
    "id": "t-42f7XKXeBI"
   },
   "source": [
    "#### Sesgos por género"
   ]
  },
  {
   "cell_type": "code",
   "execution_count": null,
   "metadata": {},
   "outputs": [],
   "source": [
    "from sklearn.metrics import precision_recall_fscore_support\n"
   ]
  },
  {
   "cell_type": "code",
   "execution_count": null,
   "metadata": {},
   "outputs": [
    {
     "data": {
      "application/vnd.google.colaboratory.intrinsic+json": {
       "summary": "{\n  \"name\": \"res_gen\",\n  \"rows\": 2,\n  \"fields\": [\n    {\n      \"column\": \"grupo\",\n      \"properties\": {\n        \"dtype\": \"string\",\n        \"num_unique_values\": 2,\n        \"samples\": [\n          \"M\",\n          \"F\"\n        ],\n        \"semantic_type\": \"\",\n        \"description\": \"\"\n      }\n    },\n    {\n      \"column\": \"P\",\n      \"properties\": {\n        \"dtype\": \"number\",\n        \"std\": 0.0,\n        \"min\": 1.0,\n        \"max\": 1.0,\n        \"num_unique_values\": 1,\n        \"samples\": [\n          1.0\n        ],\n        \"semantic_type\": \"\",\n        \"description\": \"\"\n      }\n    },\n    {\n      \"column\": \"R\",\n      \"properties\": {\n        \"dtype\": \"number\",\n        \"std\": 0.0,\n        \"min\": 1.0,\n        \"max\": 1.0,\n        \"num_unique_values\": 1,\n        \"samples\": [\n          1.0\n        ],\n        \"semantic_type\": \"\",\n        \"description\": \"\"\n      }\n    },\n    {\n      \"column\": \"F1\",\n      \"properties\": {\n        \"dtype\": \"number\",\n        \"std\": 0.0,\n        \"min\": 1.0,\n        \"max\": 1.0,\n        \"num_unique_values\": 1,\n        \"samples\": [\n          1.0\n        ],\n        \"semantic_type\": \"\",\n        \"description\": \"\"\n      }\n    }\n  ]\n}",
       "type": "dataframe",
       "variable_name": "res_gen"
      },
      "text/html": [
       "\n",
       "  <div id=\"df-61426215-262c-4f25-8f31-a84730475495\" class=\"colab-df-container\">\n",
       "    <div>\n",
       "<style scoped>\n",
       "    .dataframe tbody tr th:only-of-type {\n",
       "        vertical-align: middle;\n",
       "    }\n",
       "\n",
       "    .dataframe tbody tr th {\n",
       "        vertical-align: top;\n",
       "    }\n",
       "\n",
       "    .dataframe thead th {\n",
       "        text-align: right;\n",
       "    }\n",
       "</style>\n",
       "<table border=\"1\" class=\"dataframe\">\n",
       "  <thead>\n",
       "    <tr style=\"text-align: right;\">\n",
       "      <th></th>\n",
       "      <th>grupo</th>\n",
       "      <th>P</th>\n",
       "      <th>R</th>\n",
       "      <th>F1</th>\n",
       "    </tr>\n",
       "  </thead>\n",
       "  <tbody>\n",
       "    <tr>\n",
       "      <th>0</th>\n",
       "      <td>F</td>\n",
       "      <td>1.0</td>\n",
       "      <td>1.0</td>\n",
       "      <td>1.0</td>\n",
       "    </tr>\n",
       "    <tr>\n",
       "      <th>1</th>\n",
       "      <td>M</td>\n",
       "      <td>1.0</td>\n",
       "      <td>1.0</td>\n",
       "      <td>1.0</td>\n",
       "    </tr>\n",
       "  </tbody>\n",
       "</table>\n",
       "</div>\n",
       "    <div class=\"colab-df-buttons\">\n",
       "\n",
       "  <div class=\"colab-df-container\">\n",
       "    <button class=\"colab-df-convert\" onclick=\"convertToInteractive('df-61426215-262c-4f25-8f31-a84730475495')\"\n",
       "            title=\"Convert this dataframe to an interactive table.\"\n",
       "            style=\"display:none;\">\n",
       "\n",
       "  <svg xmlns=\"http://www.w3.org/2000/svg\" height=\"24px\" viewBox=\"0 -960 960 960\">\n",
       "    <path d=\"M120-120v-720h720v720H120Zm60-500h600v-160H180v160Zm220 220h160v-160H400v160Zm0 220h160v-160H400v160ZM180-400h160v-160H180v160Zm440 0h160v-160H620v160ZM180-180h160v-160H180v160Zm440 0h160v-160H620v160Z\"/>\n",
       "  </svg>\n",
       "    </button>\n",
       "\n",
       "  <style>\n",
       "    .colab-df-container {\n",
       "      display:flex;\n",
       "      gap: 12px;\n",
       "    }\n",
       "\n",
       "    .colab-df-convert {\n",
       "      background-color: #E8F0FE;\n",
       "      border: none;\n",
       "      border-radius: 50%;\n",
       "      cursor: pointer;\n",
       "      display: none;\n",
       "      fill: #1967D2;\n",
       "      height: 32px;\n",
       "      padding: 0 0 0 0;\n",
       "      width: 32px;\n",
       "    }\n",
       "\n",
       "    .colab-df-convert:hover {\n",
       "      background-color: #E2EBFA;\n",
       "      box-shadow: 0px 1px 2px rgba(60, 64, 67, 0.3), 0px 1px 3px 1px rgba(60, 64, 67, 0.15);\n",
       "      fill: #174EA6;\n",
       "    }\n",
       "\n",
       "    .colab-df-buttons div {\n",
       "      margin-bottom: 4px;\n",
       "    }\n",
       "\n",
       "    [theme=dark] .colab-df-convert {\n",
       "      background-color: #3B4455;\n",
       "      fill: #D2E3FC;\n",
       "    }\n",
       "\n",
       "    [theme=dark] .colab-df-convert:hover {\n",
       "      background-color: #434B5C;\n",
       "      box-shadow: 0px 1px 3px 1px rgba(0, 0, 0, 0.15);\n",
       "      filter: drop-shadow(0px 1px 2px rgba(0, 0, 0, 0.3));\n",
       "      fill: #FFFFFF;\n",
       "    }\n",
       "  </style>\n",
       "\n",
       "    <script>\n",
       "      const buttonEl =\n",
       "        document.querySelector('#df-61426215-262c-4f25-8f31-a84730475495 button.colab-df-convert');\n",
       "      buttonEl.style.display =\n",
       "        google.colab.kernel.accessAllowed ? 'block' : 'none';\n",
       "\n",
       "      async function convertToInteractive(key) {\n",
       "        const element = document.querySelector('#df-61426215-262c-4f25-8f31-a84730475495');\n",
       "        const dataTable =\n",
       "          await google.colab.kernel.invokeFunction('convertToInteractive',\n",
       "                                                    [key], {});\n",
       "        if (!dataTable) return;\n",
       "\n",
       "        const docLinkHtml = 'Like what you see? Visit the ' +\n",
       "          '<a target=\"_blank\" href=https://colab.research.google.com/notebooks/data_table.ipynb>data table notebook</a>'\n",
       "          + ' to learn more about interactive tables.';\n",
       "        element.innerHTML = '';\n",
       "        dataTable['output_type'] = 'display_data';\n",
       "        await google.colab.output.renderOutput(dataTable, element);\n",
       "        const docLink = document.createElement('div');\n",
       "        docLink.innerHTML = docLinkHtml;\n",
       "        element.appendChild(docLink);\n",
       "      }\n",
       "    </script>\n",
       "  </div>\n",
       "\n",
       "\n",
       "    <div id=\"df-87788222-298f-461c-ac16-6255afe24e57\">\n",
       "      <button class=\"colab-df-quickchart\" onclick=\"quickchart('df-87788222-298f-461c-ac16-6255afe24e57')\"\n",
       "                title=\"Suggest charts\"\n",
       "                style=\"display:none;\">\n",
       "\n",
       "<svg xmlns=\"http://www.w3.org/2000/svg\" height=\"24px\"viewBox=\"0 0 24 24\"\n",
       "     width=\"24px\">\n",
       "    <g>\n",
       "        <path d=\"M19 3H5c-1.1 0-2 .9-2 2v14c0 1.1.9 2 2 2h14c1.1 0 2-.9 2-2V5c0-1.1-.9-2-2-2zM9 17H7v-7h2v7zm4 0h-2V7h2v10zm4 0h-2v-4h2v4z\"/>\n",
       "    </g>\n",
       "</svg>\n",
       "      </button>\n",
       "\n",
       "<style>\n",
       "  .colab-df-quickchart {\n",
       "      --bg-color: #E8F0FE;\n",
       "      --fill-color: #1967D2;\n",
       "      --hover-bg-color: #E2EBFA;\n",
       "      --hover-fill-color: #174EA6;\n",
       "      --disabled-fill-color: #AAA;\n",
       "      --disabled-bg-color: #DDD;\n",
       "  }\n",
       "\n",
       "  [theme=dark] .colab-df-quickchart {\n",
       "      --bg-color: #3B4455;\n",
       "      --fill-color: #D2E3FC;\n",
       "      --hover-bg-color: #434B5C;\n",
       "      --hover-fill-color: #FFFFFF;\n",
       "      --disabled-bg-color: #3B4455;\n",
       "      --disabled-fill-color: #666;\n",
       "  }\n",
       "\n",
       "  .colab-df-quickchart {\n",
       "    background-color: var(--bg-color);\n",
       "    border: none;\n",
       "    border-radius: 50%;\n",
       "    cursor: pointer;\n",
       "    display: none;\n",
       "    fill: var(--fill-color);\n",
       "    height: 32px;\n",
       "    padding: 0;\n",
       "    width: 32px;\n",
       "  }\n",
       "\n",
       "  .colab-df-quickchart:hover {\n",
       "    background-color: var(--hover-bg-color);\n",
       "    box-shadow: 0 1px 2px rgba(60, 64, 67, 0.3), 0 1px 3px 1px rgba(60, 64, 67, 0.15);\n",
       "    fill: var(--button-hover-fill-color);\n",
       "  }\n",
       "\n",
       "  .colab-df-quickchart-complete:disabled,\n",
       "  .colab-df-quickchart-complete:disabled:hover {\n",
       "    background-color: var(--disabled-bg-color);\n",
       "    fill: var(--disabled-fill-color);\n",
       "    box-shadow: none;\n",
       "  }\n",
       "\n",
       "  .colab-df-spinner {\n",
       "    border: 2px solid var(--fill-color);\n",
       "    border-color: transparent;\n",
       "    border-bottom-color: var(--fill-color);\n",
       "    animation:\n",
       "      spin 1s steps(1) infinite;\n",
       "  }\n",
       "\n",
       "  @keyframes spin {\n",
       "    0% {\n",
       "      border-color: transparent;\n",
       "      border-bottom-color: var(--fill-color);\n",
       "      border-left-color: var(--fill-color);\n",
       "    }\n",
       "    20% {\n",
       "      border-color: transparent;\n",
       "      border-left-color: var(--fill-color);\n",
       "      border-top-color: var(--fill-color);\n",
       "    }\n",
       "    30% {\n",
       "      border-color: transparent;\n",
       "      border-left-color: var(--fill-color);\n",
       "      border-top-color: var(--fill-color);\n",
       "      border-right-color: var(--fill-color);\n",
       "    }\n",
       "    40% {\n",
       "      border-color: transparent;\n",
       "      border-right-color: var(--fill-color);\n",
       "      border-top-color: var(--fill-color);\n",
       "    }\n",
       "    60% {\n",
       "      border-color: transparent;\n",
       "      border-right-color: var(--fill-color);\n",
       "    }\n",
       "    80% {\n",
       "      border-color: transparent;\n",
       "      border-right-color: var(--fill-color);\n",
       "      border-bottom-color: var(--fill-color);\n",
       "    }\n",
       "    90% {\n",
       "      border-color: transparent;\n",
       "      border-bottom-color: var(--fill-color);\n",
       "    }\n",
       "  }\n",
       "</style>\n",
       "\n",
       "      <script>\n",
       "        async function quickchart(key) {\n",
       "          const quickchartButtonEl =\n",
       "            document.querySelector('#' + key + ' button');\n",
       "          quickchartButtonEl.disabled = true;  // To prevent multiple clicks.\n",
       "          quickchartButtonEl.classList.add('colab-df-spinner');\n",
       "          try {\n",
       "            const charts = await google.colab.kernel.invokeFunction(\n",
       "                'suggestCharts', [key], {});\n",
       "          } catch (error) {\n",
       "            console.error('Error during call to suggestCharts:', error);\n",
       "          }\n",
       "          quickchartButtonEl.classList.remove('colab-df-spinner');\n",
       "          quickchartButtonEl.classList.add('colab-df-quickchart-complete');\n",
       "        }\n",
       "        (() => {\n",
       "          let quickchartButtonEl =\n",
       "            document.querySelector('#df-87788222-298f-461c-ac16-6255afe24e57 button');\n",
       "          quickchartButtonEl.style.display =\n",
       "            google.colab.kernel.accessAllowed ? 'block' : 'none';\n",
       "        })();\n",
       "      </script>\n",
       "    </div>\n",
       "\n",
       "  <div id=\"id_4c87a5a1-b720-4e3e-9dd3-729c0d8ecea2\">\n",
       "    <style>\n",
       "      .colab-df-generate {\n",
       "        background-color: #E8F0FE;\n",
       "        border: none;\n",
       "        border-radius: 50%;\n",
       "        cursor: pointer;\n",
       "        display: none;\n",
       "        fill: #1967D2;\n",
       "        height: 32px;\n",
       "        padding: 0 0 0 0;\n",
       "        width: 32px;\n",
       "      }\n",
       "\n",
       "      .colab-df-generate:hover {\n",
       "        background-color: #E2EBFA;\n",
       "        box-shadow: 0px 1px 2px rgba(60, 64, 67, 0.3), 0px 1px 3px 1px rgba(60, 64, 67, 0.15);\n",
       "        fill: #174EA6;\n",
       "      }\n",
       "\n",
       "      [theme=dark] .colab-df-generate {\n",
       "        background-color: #3B4455;\n",
       "        fill: #D2E3FC;\n",
       "      }\n",
       "\n",
       "      [theme=dark] .colab-df-generate:hover {\n",
       "        background-color: #434B5C;\n",
       "        box-shadow: 0px 1px 3px 1px rgba(0, 0, 0, 0.15);\n",
       "        filter: drop-shadow(0px 1px 2px rgba(0, 0, 0, 0.3));\n",
       "        fill: #FFFFFF;\n",
       "      }\n",
       "    </style>\n",
       "    <button class=\"colab-df-generate\" onclick=\"generateWithVariable('res_gen')\"\n",
       "            title=\"Generate code using this dataframe.\"\n",
       "            style=\"display:none;\">\n",
       "\n",
       "  <svg xmlns=\"http://www.w3.org/2000/svg\" height=\"24px\"viewBox=\"0 0 24 24\"\n",
       "       width=\"24px\">\n",
       "    <path d=\"M7,19H8.4L18.45,9,17,7.55,7,17.6ZM5,21V16.75L18.45,3.32a2,2,0,0,1,2.83,0l1.4,1.43a1.91,1.91,0,0,1,.58,1.4,1.91,1.91,0,0,1-.58,1.4L9.25,21ZM18.45,9,17,7.55Zm-12,3A5.31,5.31,0,0,0,4.9,8.1,5.31,5.31,0,0,0,1,6.5,5.31,5.31,0,0,0,4.9,4.9,5.31,5.31,0,0,0,6.5,1,5.31,5.31,0,0,0,8.1,4.9,5.31,5.31,0,0,0,12,6.5,5.46,5.46,0,0,0,6.5,12Z\"/>\n",
       "  </svg>\n",
       "    </button>\n",
       "    <script>\n",
       "      (() => {\n",
       "      const buttonEl =\n",
       "        document.querySelector('#id_4c87a5a1-b720-4e3e-9dd3-729c0d8ecea2 button.colab-df-generate');\n",
       "      buttonEl.style.display =\n",
       "        google.colab.kernel.accessAllowed ? 'block' : 'none';\n",
       "\n",
       "      buttonEl.onclick = () => {\n",
       "        google.colab.notebook.generateWithVariable('res_gen');\n",
       "      }\n",
       "      })();\n",
       "    </script>\n",
       "  </div>\n",
       "\n",
       "    </div>\n",
       "  </div>\n"
      ],
      "text/plain": [
       "  grupo    P    R   F1\n",
       "0     F  1.0  1.0  1.0\n",
       "1     M  1.0  1.0  1.0"
      ]
     },
     "execution_count": 31,
     "metadata": {},
     "output_type": "execute_result"
    }
   ],
   "source": [
    "y_true_s = pd.Series(y_true_lbls, index=X_test.index)\n",
    "y_pred_s = pd.Series(y_pred_lbls, index=X_test.index)\n",
    "\n",
    "def macro_by_mask(y_true, y_pred, mask):\n",
    "    p,r,f1,_ = precision_recall_fscore_support(y_true[mask], y_pred[mask],\n",
    "                                               average=\"macro\", zero_division=0)\n",
    "    return {\"P\":p, \"R\":r, \"F1\":f1}\n",
    "\n",
    "mask_F = X_test[\"genero\"].eq(\"F\")\n",
    "mask_M = X_test[\"genero\"].eq(\"M\")\n",
    "\n",
    "res_gen = pd.DataFrame([\n",
    "    {\"grupo\":\"F\", **macro_by_mask(y_true_s, y_pred_s, mask_F)},\n",
    "    {\"grupo\":\"M\", **macro_by_mask(y_true_s, y_pred_s, mask_M)},\n",
    "])\n",
    "res_gen"
   ]
  },
  {
   "cell_type": "markdown",
   "metadata": {
    "id": "Gl6TM49Fn1sn"
   },
   "source": [
    "Se calcularon **precision/recall/F1 macro** por subgrupo (F y M) filtrando el conjunto de prueba y evaluando SOLO dentro de cada grupo.  \n",
    "El resultado muestra **1.0 en P/R/F1 para ambos géneros**, lo que indica **cero errores** en este test: no se observa brecha entre grupos.\n",
    "\n",
    "Las métricas perfectas aquí no prueban “ausencia de sesgo”; solo reflejan un **efecto techo** (el modelo acertó todo). Para evaluar sesgo con más evidencia:\n",
    "- reportar el **soporte** por grupo (cuántos casos F/M en test);\n",
    "- repetir la estratificación tras una **ablación** (p. ej., eliminar “leve/moderado/severo” de `texto_clinico`) o con un test más difícil;\n",
    "- enfocarse en **recall de la clase *severo*** por grupo (igualdad de oportunidad).\n"
   ]
  },
  {
   "cell_type": "markdown",
   "metadata": {
    "id": "kOotk2uBX3N6"
   },
   "source": [
    "#### Sesgos por tramos de edad"
   ]
  },
  {
   "cell_type": "code",
   "execution_count": null,
   "metadata": {},
   "outputs": [
    {
     "data": {
      "application/vnd.google.colaboratory.intrinsic+json": {
       "summary": "{\n  \"name\": \"pd\",\n  \"rows\": 3,\n  \"fields\": [\n    {\n      \"column\": \"grupo\",\n      \"properties\": {\n        \"dtype\": \"string\",\n        \"num_unique_values\": 3,\n        \"samples\": [\n          \"Edad <30\",\n          \"Edad 30\\u201350\",\n          \"Edad >50\"\n        ],\n        \"semantic_type\": \"\",\n        \"description\": \"\"\n      }\n    },\n    {\n      \"column\": \"P\",\n      \"properties\": {\n        \"dtype\": \"number\",\n        \"std\": 0.0,\n        \"min\": 1.0,\n        \"max\": 1.0,\n        \"num_unique_values\": 1,\n        \"samples\": [\n          1.0\n        ],\n        \"semantic_type\": \"\",\n        \"description\": \"\"\n      }\n    },\n    {\n      \"column\": \"R\",\n      \"properties\": {\n        \"dtype\": \"number\",\n        \"std\": 0.0,\n        \"min\": 1.0,\n        \"max\": 1.0,\n        \"num_unique_values\": 1,\n        \"samples\": [\n          1.0\n        ],\n        \"semantic_type\": \"\",\n        \"description\": \"\"\n      }\n    },\n    {\n      \"column\": \"F1\",\n      \"properties\": {\n        \"dtype\": \"number\",\n        \"std\": 0.0,\n        \"min\": 1.0,\n        \"max\": 1.0,\n        \"num_unique_values\": 1,\n        \"samples\": [\n          1.0\n        ],\n        \"semantic_type\": \"\",\n        \"description\": \"\"\n      }\n    }\n  ]\n}",
       "type": "dataframe"
      },
      "text/html": [
       "\n",
       "  <div id=\"df-8ced9aab-a87e-4e6e-8728-b31df4b8c138\" class=\"colab-df-container\">\n",
       "    <div>\n",
       "<style scoped>\n",
       "    .dataframe tbody tr th:only-of-type {\n",
       "        vertical-align: middle;\n",
       "    }\n",
       "\n",
       "    .dataframe tbody tr th {\n",
       "        vertical-align: top;\n",
       "    }\n",
       "\n",
       "    .dataframe thead th {\n",
       "        text-align: right;\n",
       "    }\n",
       "</style>\n",
       "<table border=\"1\" class=\"dataframe\">\n",
       "  <thead>\n",
       "    <tr style=\"text-align: right;\">\n",
       "      <th></th>\n",
       "      <th>grupo</th>\n",
       "      <th>P</th>\n",
       "      <th>R</th>\n",
       "      <th>F1</th>\n",
       "    </tr>\n",
       "  </thead>\n",
       "  <tbody>\n",
       "    <tr>\n",
       "      <th>0</th>\n",
       "      <td>Edad &lt;30</td>\n",
       "      <td>1.0</td>\n",
       "      <td>1.0</td>\n",
       "      <td>1.0</td>\n",
       "    </tr>\n",
       "    <tr>\n",
       "      <th>1</th>\n",
       "      <td>Edad 30–50</td>\n",
       "      <td>1.0</td>\n",
       "      <td>1.0</td>\n",
       "      <td>1.0</td>\n",
       "    </tr>\n",
       "    <tr>\n",
       "      <th>2</th>\n",
       "      <td>Edad &gt;50</td>\n",
       "      <td>1.0</td>\n",
       "      <td>1.0</td>\n",
       "      <td>1.0</td>\n",
       "    </tr>\n",
       "  </tbody>\n",
       "</table>\n",
       "</div>\n",
       "    <div class=\"colab-df-buttons\">\n",
       "\n",
       "  <div class=\"colab-df-container\">\n",
       "    <button class=\"colab-df-convert\" onclick=\"convertToInteractive('df-8ced9aab-a87e-4e6e-8728-b31df4b8c138')\"\n",
       "            title=\"Convert this dataframe to an interactive table.\"\n",
       "            style=\"display:none;\">\n",
       "\n",
       "  <svg xmlns=\"http://www.w3.org/2000/svg\" height=\"24px\" viewBox=\"0 -960 960 960\">\n",
       "    <path d=\"M120-120v-720h720v720H120Zm60-500h600v-160H180v160Zm220 220h160v-160H400v160Zm0 220h160v-160H400v160ZM180-400h160v-160H180v160Zm440 0h160v-160H620v160ZM180-180h160v-160H180v160Zm440 0h160v-160H620v160Z\"/>\n",
       "  </svg>\n",
       "    </button>\n",
       "\n",
       "  <style>\n",
       "    .colab-df-container {\n",
       "      display:flex;\n",
       "      gap: 12px;\n",
       "    }\n",
       "\n",
       "    .colab-df-convert {\n",
       "      background-color: #E8F0FE;\n",
       "      border: none;\n",
       "      border-radius: 50%;\n",
       "      cursor: pointer;\n",
       "      display: none;\n",
       "      fill: #1967D2;\n",
       "      height: 32px;\n",
       "      padding: 0 0 0 0;\n",
       "      width: 32px;\n",
       "    }\n",
       "\n",
       "    .colab-df-convert:hover {\n",
       "      background-color: #E2EBFA;\n",
       "      box-shadow: 0px 1px 2px rgba(60, 64, 67, 0.3), 0px 1px 3px 1px rgba(60, 64, 67, 0.15);\n",
       "      fill: #174EA6;\n",
       "    }\n",
       "\n",
       "    .colab-df-buttons div {\n",
       "      margin-bottom: 4px;\n",
       "    }\n",
       "\n",
       "    [theme=dark] .colab-df-convert {\n",
       "      background-color: #3B4455;\n",
       "      fill: #D2E3FC;\n",
       "    }\n",
       "\n",
       "    [theme=dark] .colab-df-convert:hover {\n",
       "      background-color: #434B5C;\n",
       "      box-shadow: 0px 1px 3px 1px rgba(0, 0, 0, 0.15);\n",
       "      filter: drop-shadow(0px 1px 2px rgba(0, 0, 0, 0.3));\n",
       "      fill: #FFFFFF;\n",
       "    }\n",
       "  </style>\n",
       "\n",
       "    <script>\n",
       "      const buttonEl =\n",
       "        document.querySelector('#df-8ced9aab-a87e-4e6e-8728-b31df4b8c138 button.colab-df-convert');\n",
       "      buttonEl.style.display =\n",
       "        google.colab.kernel.accessAllowed ? 'block' : 'none';\n",
       "\n",
       "      async function convertToInteractive(key) {\n",
       "        const element = document.querySelector('#df-8ced9aab-a87e-4e6e-8728-b31df4b8c138');\n",
       "        const dataTable =\n",
       "          await google.colab.kernel.invokeFunction('convertToInteractive',\n",
       "                                                    [key], {});\n",
       "        if (!dataTable) return;\n",
       "\n",
       "        const docLinkHtml = 'Like what you see? Visit the ' +\n",
       "          '<a target=\"_blank\" href=https://colab.research.google.com/notebooks/data_table.ipynb>data table notebook</a>'\n",
       "          + ' to learn more about interactive tables.';\n",
       "        element.innerHTML = '';\n",
       "        dataTable['output_type'] = 'display_data';\n",
       "        await google.colab.output.renderOutput(dataTable, element);\n",
       "        const docLink = document.createElement('div');\n",
       "        docLink.innerHTML = docLinkHtml;\n",
       "        element.appendChild(docLink);\n",
       "      }\n",
       "    </script>\n",
       "  </div>\n",
       "\n",
       "\n",
       "    <div id=\"df-f3f7d23c-9f4e-4bba-ab0d-13dfb45f7d90\">\n",
       "      <button class=\"colab-df-quickchart\" onclick=\"quickchart('df-f3f7d23c-9f4e-4bba-ab0d-13dfb45f7d90')\"\n",
       "                title=\"Suggest charts\"\n",
       "                style=\"display:none;\">\n",
       "\n",
       "<svg xmlns=\"http://www.w3.org/2000/svg\" height=\"24px\"viewBox=\"0 0 24 24\"\n",
       "     width=\"24px\">\n",
       "    <g>\n",
       "        <path d=\"M19 3H5c-1.1 0-2 .9-2 2v14c0 1.1.9 2 2 2h14c1.1 0 2-.9 2-2V5c0-1.1-.9-2-2-2zM9 17H7v-7h2v7zm4 0h-2V7h2v10zm4 0h-2v-4h2v4z\"/>\n",
       "    </g>\n",
       "</svg>\n",
       "      </button>\n",
       "\n",
       "<style>\n",
       "  .colab-df-quickchart {\n",
       "      --bg-color: #E8F0FE;\n",
       "      --fill-color: #1967D2;\n",
       "      --hover-bg-color: #E2EBFA;\n",
       "      --hover-fill-color: #174EA6;\n",
       "      --disabled-fill-color: #AAA;\n",
       "      --disabled-bg-color: #DDD;\n",
       "  }\n",
       "\n",
       "  [theme=dark] .colab-df-quickchart {\n",
       "      --bg-color: #3B4455;\n",
       "      --fill-color: #D2E3FC;\n",
       "      --hover-bg-color: #434B5C;\n",
       "      --hover-fill-color: #FFFFFF;\n",
       "      --disabled-bg-color: #3B4455;\n",
       "      --disabled-fill-color: #666;\n",
       "  }\n",
       "\n",
       "  .colab-df-quickchart {\n",
       "    background-color: var(--bg-color);\n",
       "    border: none;\n",
       "    border-radius: 50%;\n",
       "    cursor: pointer;\n",
       "    display: none;\n",
       "    fill: var(--fill-color);\n",
       "    height: 32px;\n",
       "    padding: 0;\n",
       "    width: 32px;\n",
       "  }\n",
       "\n",
       "  .colab-df-quickchart:hover {\n",
       "    background-color: var(--hover-bg-color);\n",
       "    box-shadow: 0 1px 2px rgba(60, 64, 67, 0.3), 0 1px 3px 1px rgba(60, 64, 67, 0.15);\n",
       "    fill: var(--button-hover-fill-color);\n",
       "  }\n",
       "\n",
       "  .colab-df-quickchart-complete:disabled,\n",
       "  .colab-df-quickchart-complete:disabled:hover {\n",
       "    background-color: var(--disabled-bg-color);\n",
       "    fill: var(--disabled-fill-color);\n",
       "    box-shadow: none;\n",
       "  }\n",
       "\n",
       "  .colab-df-spinner {\n",
       "    border: 2px solid var(--fill-color);\n",
       "    border-color: transparent;\n",
       "    border-bottom-color: var(--fill-color);\n",
       "    animation:\n",
       "      spin 1s steps(1) infinite;\n",
       "  }\n",
       "\n",
       "  @keyframes spin {\n",
       "    0% {\n",
       "      border-color: transparent;\n",
       "      border-bottom-color: var(--fill-color);\n",
       "      border-left-color: var(--fill-color);\n",
       "    }\n",
       "    20% {\n",
       "      border-color: transparent;\n",
       "      border-left-color: var(--fill-color);\n",
       "      border-top-color: var(--fill-color);\n",
       "    }\n",
       "    30% {\n",
       "      border-color: transparent;\n",
       "      border-left-color: var(--fill-color);\n",
       "      border-top-color: var(--fill-color);\n",
       "      border-right-color: var(--fill-color);\n",
       "    }\n",
       "    40% {\n",
       "      border-color: transparent;\n",
       "      border-right-color: var(--fill-color);\n",
       "      border-top-color: var(--fill-color);\n",
       "    }\n",
       "    60% {\n",
       "      border-color: transparent;\n",
       "      border-right-color: var(--fill-color);\n",
       "    }\n",
       "    80% {\n",
       "      border-color: transparent;\n",
       "      border-right-color: var(--fill-color);\n",
       "      border-bottom-color: var(--fill-color);\n",
       "    }\n",
       "    90% {\n",
       "      border-color: transparent;\n",
       "      border-bottom-color: var(--fill-color);\n",
       "    }\n",
       "  }\n",
       "</style>\n",
       "\n",
       "      <script>\n",
       "        async function quickchart(key) {\n",
       "          const quickchartButtonEl =\n",
       "            document.querySelector('#' + key + ' button');\n",
       "          quickchartButtonEl.disabled = true;  // To prevent multiple clicks.\n",
       "          quickchartButtonEl.classList.add('colab-df-spinner');\n",
       "          try {\n",
       "            const charts = await google.colab.kernel.invokeFunction(\n",
       "                'suggestCharts', [key], {});\n",
       "          } catch (error) {\n",
       "            console.error('Error during call to suggestCharts:', error);\n",
       "          }\n",
       "          quickchartButtonEl.classList.remove('colab-df-spinner');\n",
       "          quickchartButtonEl.classList.add('colab-df-quickchart-complete');\n",
       "        }\n",
       "        (() => {\n",
       "          let quickchartButtonEl =\n",
       "            document.querySelector('#df-f3f7d23c-9f4e-4bba-ab0d-13dfb45f7d90 button');\n",
       "          quickchartButtonEl.style.display =\n",
       "            google.colab.kernel.accessAllowed ? 'block' : 'none';\n",
       "        })();\n",
       "      </script>\n",
       "    </div>\n",
       "\n",
       "    </div>\n",
       "  </div>\n"
      ],
      "text/plain": [
       "        grupo    P    R   F1\n",
       "0    Edad <30  1.0  1.0  1.0\n",
       "1  Edad 30–50  1.0  1.0  1.0\n",
       "2    Edad >50  1.0  1.0  1.0"
      ]
     },
     "execution_count": 32,
     "metadata": {},
     "output_type": "execute_result"
    }
   ],
   "source": [
    "bins = pd.cut(X_test[\"edad\"], bins=[-1,29,50,200], labels=[\"<30\",\"30–50\",\">50\"])\n",
    "\n",
    "res_age = []\n",
    "for b in [\"<30\",\"30–50\",\">50\"]:\n",
    "    m = bins==b\n",
    "    res_age.append({\"grupo\":f\"Edad {b}\", **macro_by_mask(y_true_s, y_pred_s, m)})\n",
    "pd.DataFrame(res_age)\n"
   ]
  },
  {
   "cell_type": "markdown",
   "metadata": {
    "id": "uei9LWigoput"
   },
   "source": [
    "Se evaluó **precision/recall/F1 macro** dentro de cada tramo de edad (`<30`, `30–50`, `>50`).  \n",
    "El resultado es **1.0 en P/R/F1 para los tres grupos**, es decir, **no hubo errores** en el conjunto de prueba para ningún tramo.\n",
    "\n",
    "\n",
    "- No se observa **brecha por edad** en este test, pero esto responde a un **efecto techo**: el modelo acertó todo (tarea muy separable y test pequeño).  \n",
    "- Con métricas saturadas, **no se puede concluir ausencia de sesgo**. Falta evidencia sobre robustez.\n",
    "\n",
    "---\n"
   ]
  },
  {
   "cell_type": "markdown",
   "metadata": {
    "id": "UffTF-T0X-_u"
   },
   "source": [
    "#### Informe breve + mitigaciones"
   ]
  },
  {
   "cell_type": "markdown",
   "metadata": {
    "id": "OgV7wupost1E"
   },
   "source": [
    "Se hizo la evaluación estratificada por **género** y por **tramos de edad**. En ambos casos el modelo dio **F1 = 1.0** en todos los grupos. En este test **no aparecen diferencias** entre subgrupos.\n",
    "\n",
    "Ese 1.0 por todos lados no significa “sin sesgo”; significa **efecto techo**: el set de prueba es chico y la tarea quedó muy fácil. Incluso después de limpiar `afeccion`, el **texto clínico** probablemente trae pistas muy fuertes (palabras o patrones que “cantan” la gravedad) y puede haber textos muy parecidos entre train/test. Con ese contexto, es normal que el modelo no muestre brechas.\n",
    "\n",
    "**Qué propondría para investigar (no lo implemento acá, queda como plan).**\n",
    "1. **Ablación léxica:** en `texto_clínico`, enmascarar términos que delatan la gravedad y volver a medir F1/recall por grupo.  \n",
    "2. **Revisión de duplicados/similitud** entre train y test y re-evaluar.  \n",
    "3. **Validación cruzada estratificada**, reportando **soporte** por subgrupo y, en especial, **recall de *severo***.  \n",
    "4. **Ablación de features demográficas:** comparar modelo **con vs. sin** género/edad; mantenerlas solo si ayudan a *severo* sin perjudicar ningún grupo.  \n",
    "5. **Más y mejor dato:** ampliar y diversificar el corpus (distintos estilos de redacción, instituciones, rangos etarios).\n",
    "\n",
    "En este set el modelo no muestra brechas, pero por **efecto techo** no puedo descartar sesgo. La recomendación es **seguir con ablaciones y validaciones estratificadas** antes de cualquier conclusión fuerte.\n",
    "\n",
    "---\n"
   ]
  },
  {
   "cell_type": "markdown",
   "metadata": {
    "id": "gtEXuZ4MufDV"
   },
   "source": [
    "### Reflexión ética y explicabilidad"
   ]
  },
  {
   "cell_type": "markdown",
   "metadata": {
    "id": "MVkmgHdlufml"
   },
   "source": [
    "Se eligió **Random Forest + Word2Vec** como baseline robusto para un dataset pequeño y BETO para medir el techo con un transformer en español; la dupla sirve para comparar enfoques (tradicional vs. contextual) y entender qué aprende el sistema antes de pensar en uso real. Socialmente, esto implica prudencia: en clínica un falso negativo en severo no es una métrica, es un riesgo. .\n",
    "\n",
    "El mayor riesgo es dañar a un paciente por una mala prioridad: si el modelo falla en un caso severo, puede retrasar atención. También preocupa tratar distinto a grupos (por género o edad) y terminar estigmatizando o dejando sistemáticamente atrás a alguien. Un tercer riesgo es la sobreconfianza: métricas “perfectas” invitan a creer que “ya está”, y eso puede llevar a automatizar decisiones clínicas que siempre deben pasar por un profesional. Finalmente, privacidad y consentimiento: los textos clínicos hablan de personas reales; sin buen resguardo, se pierde confianza.\n",
    "\n",
    "Se limpió la fuente de fuga de etiqueta, se hizo evaluación estratificada y se documentó el efecto techo (las métricas perfectas no prueban ausencia de sesgo).\n",
    "\n",
    "Próximos pasos: revisión de duplicados, validación cruzada y externa con foco en recall de severo por subgrupo, y comparar con vs. sin variables demográficas; si no aportan a seguridad, se quitan.\n",
    "\n",
    "El sistema funciona en este corpus, pero no está listo para decisión clínica. La responsabilidad social aquí es frenar, documentar lo que sí y lo que no hace, y avanzar con ablaciones de sesgo, validación estratificada sólida y ampliación del dataset. Luego—y solo luego—se evalúa su valor práctico.\n",
    "\n",
    "**Observación**: podrían existir pistas léxicas en texto_clinico relacionadas con la gravedad. No se implementa limpieza adicional en esta entrega, pero se propone enmascarar términos de severidad y repetir la evaluación como trabajo futuro."
   ]
  },
  {
   "cell_type": "code",
   "execution_count": null,
   "metadata": {},
   "outputs": [],
   "source": []
  }
 ],
 "metadata": {
  "language_info": {
   "name": "python"
  }
 },
 "nbformat": 4,
 "nbformat_minor": 0
}
